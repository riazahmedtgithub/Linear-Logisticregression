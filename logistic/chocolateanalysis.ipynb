{
 "cells": [
  {
   "cell_type": "markdown",
   "metadata": {
    "dc": {
     "key": "4"
    },
    "deletable": false,
    "editable": false,
    "run_control": {
     "frozen": true
    },
    "tags": [
     "context"
    ]
   },
   "source": [
    "## 1. Importing packages and data\n",
    "<p><img src=\"https://assets.datacamp.com/production/project_458/img/candy.jpg\" alt=\"Bowl of halloween candy\"></p>\n",
    "<p>Every year around Halloween it seems like everyone has candy on the brain! There's a great dataset from <a href=\"https://fivethirtyeight.com/\">FiveThirtyEight</a> that includes all sorts of different information about different kinds of candy. For example, is a candy chocolaty? Does it have nougat? How does its cost compare to other candies? How many people prefer one candy over another?</p>\n",
    "<p>We'll take a whirlwind tour of this dataset and wrap up by trying linear and logistic regression techniques out on it!</p>\n",
    "<p>First things first, let's get our packages and data loaded up and inspect the data to see exactly what we're dealing with.</p>"
   ]
  },
  {
   "cell_type": "code",
   "execution_count": 72,
   "metadata": {
    "dc": {
     "key": "4"
    },
    "tags": [
     "sample_code"
    ]
   },
   "outputs": [
    {
     "name": "stdout",
     "output_type": "stream",
     "text": [
      "Rows: 85\n",
      "Columns: 13\n",
      "$ competitorname   \u001b[3m\u001b[90m<chr>\u001b[39m\u001b[23m \"100 Grand\", \"3 Musketeers\", \"One dime\", \"One quarter…\n",
      "$ chocolate        \u001b[3m\u001b[90m<lgl>\u001b[39m\u001b[23m TRUE, TRUE, FALSE, FALSE, FALSE, TRUE, TRUE, FALSE, F…\n",
      "$ fruity           \u001b[3m\u001b[90m<lgl>\u001b[39m\u001b[23m FALSE, FALSE, FALSE, FALSE, TRUE, FALSE, FALSE, FALSE…\n",
      "$ caramel          \u001b[3m\u001b[90m<lgl>\u001b[39m\u001b[23m TRUE, FALSE, FALSE, FALSE, FALSE, FALSE, TRUE, FALSE,…\n",
      "$ peanutyalmondy   \u001b[3m\u001b[90m<lgl>\u001b[39m\u001b[23m FALSE, FALSE, FALSE, FALSE, FALSE, TRUE, TRUE, TRUE, …\n",
      "$ nougat           \u001b[3m\u001b[90m<lgl>\u001b[39m\u001b[23m FALSE, TRUE, FALSE, FALSE, FALSE, FALSE, TRUE, FALSE,…\n",
      "$ crispedricewafer \u001b[3m\u001b[90m<lgl>\u001b[39m\u001b[23m TRUE, FALSE, FALSE, FALSE, FALSE, FALSE, FALSE, FALSE…\n",
      "$ hard             \u001b[3m\u001b[90m<lgl>\u001b[39m\u001b[23m FALSE, FALSE, FALSE, FALSE, FALSE, FALSE, FALSE, FALS…\n",
      "$ bar              \u001b[3m\u001b[90m<lgl>\u001b[39m\u001b[23m TRUE, TRUE, FALSE, FALSE, FALSE, TRUE, TRUE, FALSE, F…\n",
      "$ pluribus         \u001b[3m\u001b[90m<lgl>\u001b[39m\u001b[23m FALSE, FALSE, FALSE, FALSE, FALSE, FALSE, FALSE, TRUE…\n",
      "$ sugarpercent     \u001b[3m\u001b[90m<dbl>\u001b[39m\u001b[23m 0.732, 0.604, 0.011, 0.011, 0.906, 0.465, 0.604, 0.31…\n",
      "$ pricepercent     \u001b[3m\u001b[90m<dbl>\u001b[39m\u001b[23m 0.860, 0.511, 0.116, 0.511, 0.511, 0.767, 0.767, 0.51…\n",
      "$ winpercent       \u001b[3m\u001b[90m<dbl>\u001b[39m\u001b[23m 66.97173, 67.60294, 32.26109, 46.11650, 52.34146, 50.…\n"
     ]
    }
   ],
   "source": [
    "# Load all the packages\n",
    "library(dplyr)\n",
    "library(tidyr)\n",
    "library(ggplot2)\n",
    "library(corrplot)\n",
    "library(fivethirtyeight)\n",
    "library(broom)\n",
    "\n",
    "# Load the candy_rankings dataset from the fivethirtyeight package\n",
    "data(candy_rankings)\n",
    "\n",
    "# Take a glimpse() at the dataset\n",
    "glimpse(candy_rankings)\n"
   ]
  },
  {
   "cell_type": "code",
   "execution_count": 73,
   "metadata": {
    "dc": {
     "key": "4"
    },
    "hide": true,
    "tags": [
     "tests"
    ]
   },
   "outputs": [
    {
     "data": {
      "application/json": "{\"success\":true,\"summary\":{\"tests\":3,\"failures\":0,\"errors\":0},\"tests\":[{\"name\":\"Packages are loaded.\",\"message\":\"\\\"dplyr\\\" %in% .packages() is not TRUE\\n\\n\\n\\\"tidyr\\\" %in% .packages() is not TRUE\\n\\n\\n\\\"broom\\\" %in% .packages() is not TRUE\\n\\n\\n\\\"corrplot\\\" %in% .packages() is not TRUE\\n\\n\\n\\\"fivethirtyeight\\\" %in% .packages() is not TRUE\\n\\n\",\"success\":true,\"outcome\":\"success\"},{\"name\":\"Data is loaded.\",\"message\":\".GlobalEnv$candy_rankings not equal to fivethirtyeight::candy_rankings.\\nTRUE\",\"success\":true,\"outcome\":\"success\"},{\"name\":\"glimpse() was called\",\"message\":\"`candy_rankings` not equal to `glimpse_result`.\\nTRUE\",\"success\":true,\"outcome\":\"success\"}]}"
     },
     "metadata": {},
     "output_type": "display_data"
    },
    {
     "data": {
      "application/json": "{\"success\":true,\"summary\":{\"tests\":3,\"failures\":0,\"errors\":0},\"tests\":[{\"name\":\"Packages are loaded.\",\"message\":\"\\\"dplyr\\\" %in% .packages() is not TRUE\\n\\n\\n\\\"tidyr\\\" %in% .packages() is not TRUE\\n\\n\\n\\\"broom\\\" %in% .packages() is not TRUE\\n\\n\\n\\\"corrplot\\\" %in% .packages() is not TRUE\\n\\n\\n\\\"fivethirtyeight\\\" %in% .packages() is not TRUE\\n\\n\",\"success\":true,\"outcome\":\"success\"},{\"name\":\"Data is loaded.\",\"message\":\".GlobalEnv$candy_rankings not equal to fivethirtyeight::candy_rankings.\\nTRUE\",\"success\":true,\"outcome\":\"success\"},{\"name\":\"glimpse() was called\",\"message\":\"`candy_rankings` not equal to `glimpse_result`.\\nTRUE\",\"success\":true,\"outcome\":\"success\"}]}"
     },
     "metadata": {},
     "output_type": "display_data"
    },
    {
     "data": {
      "text/plain": [
       "3/3 tests passed"
      ]
     },
     "metadata": {},
     "output_type": "display_data"
    }
   ],
   "source": [
    "glimpse_result <- .Last.value\n",
    "\n",
    "\n",
    "# These packages need to be loaded in the first @tests cell. \n",
    "library(testthat) \n",
    "library(IRkernel.testthat)\n",
    "\n",
    "run_tests({\n",
    "    test_that(\"Packages are loaded.\", {\n",
    "        expect_true(\"dplyr\" %in% .packages(),\n",
    "                   info = \"Make sure you loaded dplyr.\")\n",
    "        expect_true(\"tidyr\" %in% .packages(),\n",
    "                   info = \"Make sure you loaded tidyr.\")\n",
    "        expect_true(\"broom\"  %in% .packages(),\n",
    "                   info = \"Make sure you loaded broom.\")\n",
    "        expect_true(\"corrplot\" %in% .packages(),\n",
    "                   info = \"Make sure you loaded corrplot.\")\n",
    "        expect_true(\"fivethirtyeight\" %in% .packages(),\n",
    "                   info = \"Make sure you loaded fivethirtyeight.\")\n",
    "    })\n",
    "    test_that(\"Data is loaded.\", {\n",
    "        expect_equal(.GlobalEnv$candy_rankings, fivethirtyeight::candy_rankings,\n",
    "                        info = \"Did you call data(candy_rankings)?\")\n",
    "    })\n",
    "    test_that(\"glimpse() was called\", {\n",
    "        expect_equal(candy_rankings, glimpse_result,\n",
    "                    info = \"Make sure you took a look at candy_rankings with glimpse().\")\n",
    "    })\n",
    "})\n"
   ]
  },
  {
   "cell_type": "markdown",
   "metadata": {
    "dc": {
     "key": "11"
    },
    "deletable": false,
    "editable": false,
    "run_control": {
     "frozen": true
    },
    "tags": [
     "context"
    ]
   },
   "source": [
    "## 2. Explore the distributions of categorical variables\n",
    "<p>Let's get started by looking at the distributions of each binary categorical variable. There are quite a few of them - we'll have to do some data wrangling to get them in shape for plotting. </p>\n",
    "<p>We can get a sense of the proportion of <code>TRUE</code>s and <code>FALSE</code>s in each column by using the <code>gather()</code> function to get the dataset to look like this:</p>\n",
    "<pre><code>  competitorname sugarpercent pricepercent winpercent feature   value\n",
    "  &lt;chr&gt;                 &lt;dbl&gt;        &lt;dbl&gt;      &lt;dbl&gt; &lt;chr&gt;     &lt;lgl&gt;\n",
    "1 100 Grand             0.732        0.860       67.0 chocolate TRUE \n",
    "2 3 Musketeers          0.604        0.511       67.6 chocolate TRUE \n",
    "3 One dime              0.011        0.116       32.3 chocolate FALSE\n",
    "</code></pre>\n",
    "<p>Then we can make a bar chart showing the number of <code>TRUE</code>s and <code>FALSE</code>s for each type of candy (<code>feature</code>).</p>\n",
    "<p>Note: Development on <code>gather()</code> is complete, but it is still taught in several DataCamp courses. We will continue to use it here.</p>"
   ]
  },
  {
   "cell_type": "code",
   "execution_count": 74,
   "metadata": {
    "dc": {
     "key": "11"
    },
    "tags": [
     "sample_code"
    ]
   },
   "outputs": [
    {
     "data": {
      "image/png": "[encoded data removed]",
      "text/plain": [
       "plot without title"
      ]
     },
     "metadata": {
      "image/png": {
       "height": 420,
       "width": 420
      }
     },
     "output_type": "display_data"
    }
   ],
   "source": [
    "# Gather the categorical variables to make them easier to plot\n",
    "candy_rankings_long<- gather(candy_rankings,key=\"feature\",value=\"value\",chocolate:pluribus)\n",
    "\n",
    "#candy_rankings_long\n",
    "\n",
    "#candy_rankings_long[\"100 Grand\",]\n",
    "# Make a bar plot showing the distribution of each variable\n",
    "ggplot(candy_rankings_long, aes(x=value)) +geom_bar() +facet_wrap(~feature)"
   ]
  },
  {
   "cell_type": "code",
   "execution_count": 75,
   "metadata": {
    "dc": {
     "key": "11"
    },
    "hide": true,
    "tags": [
     "tests"
    ]
   },
   "outputs": [
    {
     "data": {
      "application/json": "{\"success\":true,\"summary\":{\"tests\":2,\"failures\":0,\"errors\":0},\"tests\":[{\"name\":\"`candy_rankings_long` is correct\",\"message\":\"`candy_rankings_long` not equal to gather(candy_rankings, \\\"feature\\\", \\\"value\\\", chocolate:pluribus).\\nTRUE\",\"success\":true,\"outcome\":\"success\"},{\"name\":\"The plot was created correctly\",\"message\":\"p$data not equal to `candy_rankings_long`.\\nTRUE\\np$mapping not equal to aes(value).\\nTRUE\\np$layers not equal to list(geom_bar()).\\nTRUE\\np$facet not equal to facet_wrap(~feature).\\nTRUE\",\"success\":true,\"outcome\":\"success\"}]}"
     },
     "metadata": {},
     "output_type": "display_data"
    },
    {
     "data": {
      "application/json": "{\"success\":true,\"summary\":{\"tests\":2,\"failures\":0,\"errors\":0},\"tests\":[{\"name\":\"`candy_rankings_long` is correct\",\"message\":\"`candy_rankings_long` not equal to gather(candy_rankings, \\\"feature\\\", \\\"value\\\", chocolate:pluribus).\\nTRUE\",\"success\":true,\"outcome\":\"success\"},{\"name\":\"The plot was created correctly\",\"message\":\"p$data not equal to `candy_rankings_long`.\\nTRUE\\np$mapping not equal to aes(value).\\nTRUE\\np$layers not equal to list(geom_bar()).\\nTRUE\\np$facet not equal to facet_wrap(~feature).\\nTRUE\",\"success\":true,\"outcome\":\"success\"}]}"
     },
     "metadata": {},
     "output_type": "display_data"
    },
    {
     "data": {
      "text/plain": [
       "2/2 tests passed"
      ]
     },
     "metadata": {},
     "output_type": "display_data"
    }
   ],
   "source": [
    "p <- last_plot()\n",
    "\n",
    "run_tests({\n",
    "    test_that(\"`candy_rankings_long` is correct\", {\n",
    "        expect_equal(candy_rankings_long, gather(candy_rankings, \"feature\", \"value\", chocolate:pluribus),\n",
    "                        info = \"Make sure you created candy_features_long by gathering the correct columns.\")\n",
    "    })\n",
    "    test_that(\"The plot was created correctly\", {\n",
    "        expect_equal(p$data, candy_rankings_long,\n",
    "                        info = \"Make sure you passed candy_rankings_long as the data argument to ggplot().\")\n",
    "        expect_equal(p$mapping, aes(value),\n",
    "                    info = \"Did you map the value column to the x aesthetic?\")\n",
    "        expect_equal(p$layers, list(geom_bar()),\n",
    "                    info = \"Did you call geom_bar() to create a bar chart?\")\n",
    "        expect_equal(p$facet, facet_wrap(~feature),\n",
    "                    info = \"Did you create facet for each feature?\")\n",
    "    })\n",
    "})"
   ]
  },
  {
   "cell_type": "markdown",
   "metadata": {
    "dc": {
     "key": "18"
    },
    "deletable": false,
    "editable": false,
    "run_control": {
     "frozen": true
    },
    "tags": [
     "context"
    ]
   },
   "source": [
    "## 3. Taking a look at pricepercent\n",
    "<p>Next, we'll look at the <code>pricepercent</code> variable. This variable records the percentile rank of the candy's price against all the other candies in the dataset. Let's see which is the most expensive and which is the least expensive by making a lollipop chart. One of the most interesting aspects of this chart is that a lot of the candies share the same ranking, so it looks like quite a few of them are the same price.</p>"
   ]
  },
  {
   "cell_type": "code",
   "execution_count": 76,
   "metadata": {
    "dc": {
     "key": "18"
    },
    "tags": [
     "sample_code"
    ]
   },
   "outputs": [
    {
     "data": {
      "image/png": "[encoded data removed]",
      "text/plain": [
       "plot without title"
      ]
     },
     "metadata": {
      "image/png": {
       "height": 420,
       "width": 420
      }
     },
     "output_type": "display_data"
    }
   ],
   "source": [
    "# Make a lollipop chart of pricepercent\n",
    "# .... YOUR CODE FOR TASK 3 ....\n",
    "ggplot(candy_rankings, aes(reorder(competitorname, pricepercent), pricepercent)) +\n",
    "  geom_segment(aes(xend = reorder(competitorname, pricepercent), yend = 0)) +\n",
    "  geom_point() +\n",
    "  coord_flip()"
   ]
  },
  {
   "cell_type": "code",
   "execution_count": 77,
   "metadata": {
    "dc": {
     "key": "18"
    },
    "hide": true,
    "tags": [
     "tests"
    ]
   },
   "outputs": [
    {
     "data": {
      "application/json": "{\"success\":true,\"summary\":{\"tests\":1,\"failures\":0,\"errors\":0},\"tests\":[{\"name\":\"The plot is correct\",\"message\":\"p$data not equal to `candy_rankings`.\\nTRUE\\np$mapping not equal to aes(reorder(competitorname, pricepercent), pricepercent).\\nTRUE\\np$layers not equal to list(...).\\nTRUE\\np$coordinates not equal to coord_flip().\\nTRUE\",\"success\":true,\"outcome\":\"success\"}]}"
     },
     "metadata": {},
     "output_type": "display_data"
    },
    {
     "data": {
      "application/json": "{\"success\":true,\"summary\":{\"tests\":1,\"failures\":0,\"errors\":0},\"tests\":[{\"name\":\"The plot is correct\",\"message\":\"p$data not equal to `candy_rankings`.\\nTRUE\\np$mapping not equal to aes(reorder(competitorname, pricepercent), pricepercent).\\nTRUE\\np$layers not equal to list(...).\\nTRUE\\np$coordinates not equal to coord_flip().\\nTRUE\",\"success\":true,\"outcome\":\"success\"}]}"
     },
     "metadata": {},
     "output_type": "display_data"
    },
    {
     "data": {
      "text/plain": [
       "1/1 tests passed"
      ]
     },
     "metadata": {},
     "output_type": "display_data"
    }
   ],
   "source": [
    "p <- last_plot()\n",
    "\n",
    "run_tests({\n",
    "    test_that(\"The plot is correct\", {\n",
    "        expect_equal(p$data, candy_rankings,\n",
    "                    info = \"Make sure you passed candy_rankings as the data argument to ggplot().\")\n",
    "        expect_equal(p$mapping, aes(reorder(competitorname, pricepercent), pricepercent),\n",
    "                    info = \"Did you pass the right aesthetics to aes() Make sure to reorder competitorname.\")\n",
    "        expect_equal(p$layers, list(geom_segment(aes(xend = reorder(competitorname, pricepercent), yend = 0)), geom_point()),\n",
    "                    info = \"The aesthetics in geom_segment() are not correct. Was xend= reordered correctly?\")\n",
    "        expect_equal(p$coordinates, coord_flip(),\n",
    "                    info = \"Did you flip the plot with coord_flip()?\")\n",
    "    })\n",
    "})"
   ]
  },
  {
   "cell_type": "markdown",
   "metadata": {
    "dc": {
     "key": "25"
    },
    "deletable": false,
    "editable": false,
    "run_control": {
     "frozen": true
    },
    "tags": [
     "context"
    ]
   },
   "source": [
    "## 4. Exploring winpercent (part i)\n",
    "<p>Moving on, we'll take a look at another numerical variable in the dataset: <code>winpercent</code>. This variable is the percentage of people who prefer this candy over another randomly chosen candy from the dataset. </p>\n",
    "<p>We'll start with a histogram! The distribution of rankings looks symmetrical and seems to center on about 45%! </p>"
   ]
  },
  {
   "cell_type": "code",
   "execution_count": 78,
   "metadata": {
    "dc": {
     "key": "25"
    },
    "tags": [
     "sample_code"
    ]
   },
   "outputs": [
    {
     "name": "stderr",
     "output_type": "stream",
     "text": [
      "`stat_bin()` using `bins = 30`. Pick better value with `binwidth`.\n",
      "\n"
     ]
    },
    {
     "data": {
      "image/png": "[encoded data removed]",
      "text/plain": [
       "plot without title"
      ]
     },
     "metadata": {
      "image/png": {
       "height": 420,
       "width": 420
      }
     },
     "output_type": "display_data"
    }
   ],
   "source": [
    "# Plot a histogram of winpercent\n",
    "# .... YOUR CODE FOR TASK 4 ....\n",
    "# Plot a histogram of winpercent\n",
    "ggplot(candy_rankings, aes(winpercent)) +\n",
    "  geom_histogram()"
   ]
  },
  {
   "cell_type": "code",
   "execution_count": 79,
   "metadata": {
    "dc": {
     "key": "25"
    },
    "hide": true,
    "tags": [
     "tests"
    ]
   },
   "outputs": [
    {
     "data": {
      "application/json": "{\"success\":true,\"summary\":{\"tests\":1,\"failures\":0,\"errors\":0},\"tests\":[{\"name\":\"The histogram is plotted correctly.\",\"message\":\"p$data not equal to `candy_rankings`.\\nTRUE\\np$mapping not equal to aes(winpercent).\\nTRUE\\np$layers not equal to list(geom_histogram()).\\nTRUE\",\"success\":true,\"outcome\":\"success\"}]}"
     },
     "metadata": {},
     "output_type": "display_data"
    },
    {
     "data": {
      "application/json": "{\"success\":true,\"summary\":{\"tests\":1,\"failures\":0,\"errors\":0},\"tests\":[{\"name\":\"The histogram is plotted correctly.\",\"message\":\"p$data not equal to `candy_rankings`.\\nTRUE\\np$mapping not equal to aes(winpercent).\\nTRUE\\np$layers not equal to list(geom_histogram()).\\nTRUE\",\"success\":true,\"outcome\":\"success\"}]}"
     },
     "metadata": {},
     "output_type": "display_data"
    },
    {
     "data": {
      "text/plain": [
       "1/1 tests passed"
      ]
     },
     "metadata": {},
     "output_type": "display_data"
    }
   ],
   "source": [
    "p <- last_plot()\n",
    "\n",
    "run_tests({\n",
    "    test_that(\"The histogram is plotted correctly.\",{\n",
    "        expect_equal(p$data, candy_rankings,\n",
    "                    info = \"Make sure you used candy_rankings as the data argument in your ggplot().\")\n",
    "        expect_equal(p$mapping, aes(winpercent),\n",
    "                    info = \"Make sure you assigned winpercent to the x aesthetic.\")\n",
    "        expect_equal(p$layers, list(geom_histogram()),\n",
    "                    info = \"Make sure you used geom_histogram() to make your plot.\")\n",
    "    })\n",
    "})"
   ]
  },
  {
   "cell_type": "markdown",
   "metadata": {
    "dc": {
     "key": "32"
    },
    "deletable": false,
    "editable": false,
    "run_control": {
     "frozen": true
    },
    "tags": [
     "context"
    ]
   },
   "source": [
    "## 5. Exploring winpercent (part ii)\n",
    "<p>Now that we've looked at the histogram, let's make another lollipop chart to visualize the rankings. It looks like Reese's Peanut Butter Cups are the all time favorite out of this set of candies!</p>"
   ]
  },
  {
   "cell_type": "code",
   "execution_count": 80,
   "metadata": {
    "dc": {
     "key": "32"
    },
    "tags": [
     "sample_code"
    ]
   },
   "outputs": [
    {
     "data": {
      "image/png": "[encoded data removed]",
      "text/plain": [
       "plot without title"
      ]
     },
     "metadata": {
      "image/png": {
       "height": 420,
       "width": 420
      }
     },
     "output_type": "display_data"
    }
   ],
   "source": [
    "# Make a lollipop chart of winpercent\n",
    "# .... YOUR CODE FOR TASK 5 ....\n",
    "ggplot(candy_rankings, aes(reorder(competitorname, winpercent), winpercent)) +\n",
    "  geom_segment(aes(xend = reorder(competitorname, winpercent), yend = 0)) +\n",
    "  geom_point() +\n",
    "  coord_flip()"
   ]
  },
  {
   "cell_type": "code",
   "execution_count": 81,
   "metadata": {
    "dc": {
     "key": "32"
    },
    "hide": true,
    "tags": [
     "tests"
    ]
   },
   "outputs": [
    {
     "data": {
      "application/json": "{\"success\":true,\"summary\":{\"tests\":1,\"failures\":0,\"errors\":0},\"tests\":[{\"name\":\"The plot is correct\",\"message\":\"p$data not equal to `candy_rankings`.\\nTRUE\\np$mapping not equal to aes(reorder(competitorname, winpercent), winpercent).\\nTRUE\\np$layers not equal to list(...).\\nTRUE\\np$coordinates not equal to coord_flip().\\nTRUE\",\"success\":true,\"outcome\":\"success\"}]}"
     },
     "metadata": {},
     "output_type": "display_data"
    },
    {
     "data": {
      "application/json": "{\"success\":true,\"summary\":{\"tests\":1,\"failures\":0,\"errors\":0},\"tests\":[{\"name\":\"The plot is correct\",\"message\":\"p$data not equal to `candy_rankings`.\\nTRUE\\np$mapping not equal to aes(reorder(competitorname, winpercent), winpercent).\\nTRUE\\np$layers not equal to list(...).\\nTRUE\\np$coordinates not equal to coord_flip().\\nTRUE\",\"success\":true,\"outcome\":\"success\"}]}"
     },
     "metadata": {},
     "output_type": "display_data"
    },
    {
     "data": {
      "text/plain": [
       "1/1 tests passed"
      ]
     },
     "metadata": {},
     "output_type": "display_data"
    }
   ],
   "source": [
    "p <- last_plot()\n",
    "\n",
    "run_tests({\n",
    "    test_that(\"The plot is correct\", {\n",
    "        expect_equal(p$data, candy_rankings,\n",
    "                    info = \"Make sure you passed candy_rankings as the data argument to ggplot().\")\n",
    "        expect_equal(p$mapping, aes(reorder(competitorname, winpercent), winpercent),\n",
    "                    info = \"Did you pass the right aesthetics to aes()? Make sure to reorder competitorname.\")\n",
    "        expect_equal(p$layers, list(geom_segment(aes(xend = reorder(competitorname, winpercent), yend = 0)), geom_point()),\n",
    "                    info = \"The aesthetics in geom_segment() are not correct. Was xend= reordered correctly?\")\n",
    "        expect_equal(p$coordinates, coord_flip(),\n",
    "                    info = \"Did you flip the plot with coord_flip()?\")\n",
    "    })\n",
    "    # You can have more than one test\n",
    "})"
   ]
  },
  {
   "cell_type": "markdown",
   "metadata": {
    "dc": {
     "key": "39"
    },
    "deletable": false,
    "editable": false,
    "run_control": {
     "frozen": true
    },
    "tags": [
     "context"
    ]
   },
   "source": [
    "## 6. Exploring the correlation structure\n",
    "<p>Now that we've explored the dataset one variable at a time, we'll see how the variables interact with one another. This is important as we get ready to model the data because it will give us some intuition about which variables might be useful as explanatory variables. </p>\n",
    "<p>We'll use the <code>corrplot</code> package to plot a correlation matrix. Taking a look at this plot, it looks like chocolaty candies are almost never fruity. I can certainly see why that's the case! This also allows us to check for possible <a href=\"https://en.wikipedia.org/wiki/Multicollinearity\">multicollinearity</a>, which can be a problem for regression modeling. It looks like we're good though!</p>"
   ]
  },
  {
   "cell_type": "code",
   "execution_count": 82,
   "metadata": {
    "dc": {
     "key": "39"
    },
    "tags": [
     "sample_code"
    ]
   },
   "outputs": [
    {
     "data": {
      "text/html": [
       "<table class=\"dataframe\">\n",
       "<caption>A matrix: 12 × 12 of type dbl</caption>\n",
       "<thead>\n",
       "\t<tr><th></th><th scope=col>chocolate</th><th scope=col>fruity</th><th scope=col>caramel</th><th scope=col>peanutyalmondy</th><th scope=col>nougat</th><th scope=col>crispedricewafer</th><th scope=col>hard</th><th scope=col>bar</th><th scope=col>pluribus</th><th scope=col>sugarpercent</th><th scope=col>pricepercent</th><th scope=col>winpercent</th></tr>\n",
       "</thead>\n",
       "<tbody>\n",
       "\t<tr><th scope=row>chocolate</th><td> 1.0000000</td><td>-0.74172106</td><td> 0.24987535</td><td> 0.37782357</td><td> 0.25489183</td><td> 0.34120978</td><td>-0.34417691</td><td> 0.59742114</td><td>-0.33967519</td><td> 0.10416906</td><td> 0.5046754</td><td> 0.6365167</td></tr>\n",
       "\t<tr><th scope=row>fruity</th><td>-0.7417211</td><td> 1.00000000</td><td>-0.33548538</td><td>-0.39928014</td><td>-0.26936712</td><td>-0.26936712</td><td> 0.39067750</td><td>-0.51506558</td><td> 0.29972522</td><td>-0.03439296</td><td>-0.4309685</td><td>-0.3809381</td></tr>\n",
       "\t<tr><th scope=row>caramel</th><td> 0.2498753</td><td>-0.33548538</td><td> 1.00000000</td><td> 0.05935614</td><td> 0.32849280</td><td> 0.21311310</td><td>-0.12235513</td><td> 0.33396002</td><td>-0.26958501</td><td> 0.22193335</td><td> 0.2543271</td><td> 0.2134163</td></tr>\n",
       "\t<tr><th scope=row>peanutyalmondy</th><td> 0.3778236</td><td>-0.39928014</td><td> 0.05935614</td><td> 1.00000000</td><td> 0.21311310</td><td>-0.01764631</td><td>-0.20555661</td><td> 0.26041960</td><td>-0.20610932</td><td> 0.08788927</td><td> 0.3091532</td><td> 0.4061922</td></tr>\n",
       "\t<tr><th scope=row>nougat</th><td> 0.2548918</td><td>-0.26936712</td><td> 0.32849280</td><td> 0.21311310</td><td> 1.00000000</td><td>-0.08974359</td><td>-0.13867505</td><td> 0.52297636</td><td>-0.31033884</td><td> 0.12308135</td><td> 0.1531964</td><td> 0.1993753</td></tr>\n",
       "\t<tr><th scope=row>crispedricewafer</th><td> 0.3412098</td><td>-0.26936712</td><td> 0.21311310</td><td>-0.01764631</td><td>-0.08974359</td><td> 1.00000000</td><td>-0.13867505</td><td> 0.42375093</td><td>-0.22469338</td><td> 0.06994969</td><td> 0.3282654</td><td> 0.3246797</td></tr>\n",
       "\t<tr><th scope=row>hard</th><td>-0.3441769</td><td> 0.39067750</td><td>-0.12235513</td><td>-0.20555661</td><td>-0.13867505</td><td>-0.13867505</td><td> 1.00000000</td><td>-0.26516504</td><td> 0.01453172</td><td> 0.09180975</td><td>-0.2443653</td><td>-0.3103816</td></tr>\n",
       "\t<tr><th scope=row>bar</th><td> 0.5974211</td><td>-0.51506558</td><td> 0.33396002</td><td> 0.26041960</td><td> 0.52297636</td><td> 0.42375093</td><td>-0.26516504</td><td> 1.00000000</td><td>-0.59340892</td><td> 0.09998516</td><td> 0.5184065</td><td> 0.4299293</td></tr>\n",
       "\t<tr><th scope=row>pluribus</th><td>-0.3396752</td><td> 0.29972522</td><td>-0.26958501</td><td>-0.20610932</td><td>-0.31033884</td><td>-0.22469338</td><td> 0.01453172</td><td>-0.59340892</td><td> 1.00000000</td><td> 0.04552282</td><td>-0.2207936</td><td>-0.2474479</td></tr>\n",
       "\t<tr><th scope=row>sugarpercent</th><td> 0.1041691</td><td>-0.03439296</td><td> 0.22193335</td><td> 0.08788927</td><td> 0.12308135</td><td> 0.06994969</td><td> 0.09180975</td><td> 0.09998516</td><td> 0.04552282</td><td> 1.00000000</td><td> 0.3297064</td><td> 0.2291507</td></tr>\n",
       "\t<tr><th scope=row>pricepercent</th><td> 0.5046754</td><td>-0.43096853</td><td> 0.25432709</td><td> 0.30915323</td><td> 0.15319643</td><td> 0.32826539</td><td>-0.24436534</td><td> 0.51840654</td><td>-0.22079363</td><td> 0.32970639</td><td> 1.0000000</td><td> 0.3453254</td></tr>\n",
       "\t<tr><th scope=row>winpercent</th><td> 0.6365167</td><td>-0.38093814</td><td> 0.21341630</td><td> 0.40619220</td><td> 0.19937530</td><td> 0.32467965</td><td>-0.31038158</td><td> 0.42992933</td><td>-0.24744787</td><td> 0.22915066</td><td> 0.3453254</td><td> 1.0000000</td></tr>\n",
       "</tbody>\n",
       "</table>\n"
      ],
      "text/latex": [
       "A matrix: 12 × 12 of type dbl\n",
       "\\begin{tabular}{r|llllllllllll}\n",
       "  & chocolate & fruity & caramel & peanutyalmondy & nougat & crispedricewafer & hard & bar & pluribus & sugarpercent & pricepercent & winpercent\\\\\n",
       "\\hline\n",
       "\tchocolate &  1.0000000 & -0.74172106 &  0.24987535 &  0.37782357 &  0.25489183 &  0.34120978 & -0.34417691 &  0.59742114 & -0.33967519 &  0.10416906 &  0.5046754 &  0.6365167\\\\\n",
       "\tfruity & -0.7417211 &  1.00000000 & -0.33548538 & -0.39928014 & -0.26936712 & -0.26936712 &  0.39067750 & -0.51506558 &  0.29972522 & -0.03439296 & -0.4309685 & -0.3809381\\\\\n",
       "\tcaramel &  0.2498753 & -0.33548538 &  1.00000000 &  0.05935614 &  0.32849280 &  0.21311310 & -0.12235513 &  0.33396002 & -0.26958501 &  0.22193335 &  0.2543271 &  0.2134163\\\\\n",
       "\tpeanutyalmondy &  0.3778236 & -0.39928014 &  0.05935614 &  1.00000000 &  0.21311310 & -0.01764631 & -0.20555661 &  0.26041960 & -0.20610932 &  0.08788927 &  0.3091532 &  0.4061922\\\\\n",
       "\tnougat &  0.2548918 & -0.26936712 &  0.32849280 &  0.21311310 &  1.00000000 & -0.08974359 & -0.13867505 &  0.52297636 & -0.31033884 &  0.12308135 &  0.1531964 &  0.1993753\\\\\n",
       "\tcrispedricewafer &  0.3412098 & -0.26936712 &  0.21311310 & -0.01764631 & -0.08974359 &  1.00000000 & -0.13867505 &  0.42375093 & -0.22469338 &  0.06994969 &  0.3282654 &  0.3246797\\\\\n",
       "\thard & -0.3441769 &  0.39067750 & -0.12235513 & -0.20555661 & -0.13867505 & -0.13867505 &  1.00000000 & -0.26516504 &  0.01453172 &  0.09180975 & -0.2443653 & -0.3103816\\\\\n",
       "\tbar &  0.5974211 & -0.51506558 &  0.33396002 &  0.26041960 &  0.52297636 &  0.42375093 & -0.26516504 &  1.00000000 & -0.59340892 &  0.09998516 &  0.5184065 &  0.4299293\\\\\n",
       "\tpluribus & -0.3396752 &  0.29972522 & -0.26958501 & -0.20610932 & -0.31033884 & -0.22469338 &  0.01453172 & -0.59340892 &  1.00000000 &  0.04552282 & -0.2207936 & -0.2474479\\\\\n",
       "\tsugarpercent &  0.1041691 & -0.03439296 &  0.22193335 &  0.08788927 &  0.12308135 &  0.06994969 &  0.09180975 &  0.09998516 &  0.04552282 &  1.00000000 &  0.3297064 &  0.2291507\\\\\n",
       "\tpricepercent &  0.5046754 & -0.43096853 &  0.25432709 &  0.30915323 &  0.15319643 &  0.32826539 & -0.24436534 &  0.51840654 & -0.22079363 &  0.32970639 &  1.0000000 &  0.3453254\\\\\n",
       "\twinpercent &  0.6365167 & -0.38093814 &  0.21341630 &  0.40619220 &  0.19937530 &  0.32467965 & -0.31038158 &  0.42992933 & -0.24744787 &  0.22915066 &  0.3453254 &  1.0000000\\\\\n",
       "\\end{tabular}\n"
      ],
      "text/markdown": [
       "\n",
       "A matrix: 12 × 12 of type dbl\n",
       "\n",
       "| <!--/--> | chocolate | fruity | caramel | peanutyalmondy | nougat | crispedricewafer | hard | bar | pluribus | sugarpercent | pricepercent | winpercent |\n",
       "|---|---|---|---|---|---|---|---|---|---|---|---|---|\n",
       "| chocolate |  1.0000000 | -0.74172106 |  0.24987535 |  0.37782357 |  0.25489183 |  0.34120978 | -0.34417691 |  0.59742114 | -0.33967519 |  0.10416906 |  0.5046754 |  0.6365167 |\n",
       "| fruity | -0.7417211 |  1.00000000 | -0.33548538 | -0.39928014 | -0.26936712 | -0.26936712 |  0.39067750 | -0.51506558 |  0.29972522 | -0.03439296 | -0.4309685 | -0.3809381 |\n",
       "| caramel |  0.2498753 | -0.33548538 |  1.00000000 |  0.05935614 |  0.32849280 |  0.21311310 | -0.12235513 |  0.33396002 | -0.26958501 |  0.22193335 |  0.2543271 |  0.2134163 |\n",
       "| peanutyalmondy |  0.3778236 | -0.39928014 |  0.05935614 |  1.00000000 |  0.21311310 | -0.01764631 | -0.20555661 |  0.26041960 | -0.20610932 |  0.08788927 |  0.3091532 |  0.4061922 |\n",
       "| nougat |  0.2548918 | -0.26936712 |  0.32849280 |  0.21311310 |  1.00000000 | -0.08974359 | -0.13867505 |  0.52297636 | -0.31033884 |  0.12308135 |  0.1531964 |  0.1993753 |\n",
       "| crispedricewafer |  0.3412098 | -0.26936712 |  0.21311310 | -0.01764631 | -0.08974359 |  1.00000000 | -0.13867505 |  0.42375093 | -0.22469338 |  0.06994969 |  0.3282654 |  0.3246797 |\n",
       "| hard | -0.3441769 |  0.39067750 | -0.12235513 | -0.20555661 | -0.13867505 | -0.13867505 |  1.00000000 | -0.26516504 |  0.01453172 |  0.09180975 | -0.2443653 | -0.3103816 |\n",
       "| bar |  0.5974211 | -0.51506558 |  0.33396002 |  0.26041960 |  0.52297636 |  0.42375093 | -0.26516504 |  1.00000000 | -0.59340892 |  0.09998516 |  0.5184065 |  0.4299293 |\n",
       "| pluribus | -0.3396752 |  0.29972522 | -0.26958501 | -0.20610932 | -0.31033884 | -0.22469338 |  0.01453172 | -0.59340892 |  1.00000000 |  0.04552282 | -0.2207936 | -0.2474479 |\n",
       "| sugarpercent |  0.1041691 | -0.03439296 |  0.22193335 |  0.08788927 |  0.12308135 |  0.06994969 |  0.09180975 |  0.09998516 |  0.04552282 |  1.00000000 |  0.3297064 |  0.2291507 |\n",
       "| pricepercent |  0.5046754 | -0.43096853 |  0.25432709 |  0.30915323 |  0.15319643 |  0.32826539 | -0.24436534 |  0.51840654 | -0.22079363 |  0.32970639 |  1.0000000 |  0.3453254 |\n",
       "| winpercent |  0.6365167 | -0.38093814 |  0.21341630 |  0.40619220 |  0.19937530 |  0.32467965 | -0.31038158 |  0.42992933 | -0.24744787 |  0.22915066 |  0.3453254 |  1.0000000 |\n",
       "\n"
      ],
      "text/plain": [
       "                 chocolate  fruity      caramel     peanutyalmondy nougat     \n",
       "chocolate         1.0000000 -0.74172106  0.24987535  0.37782357     0.25489183\n",
       "fruity           -0.7417211  1.00000000 -0.33548538 -0.39928014    -0.26936712\n",
       "caramel           0.2498753 -0.33548538  1.00000000  0.05935614     0.32849280\n",
       "peanutyalmondy    0.3778236 -0.39928014  0.05935614  1.00000000     0.21311310\n",
       "nougat            0.2548918 -0.26936712  0.32849280  0.21311310     1.00000000\n",
       "crispedricewafer  0.3412098 -0.26936712  0.21311310 -0.01764631    -0.08974359\n",
       "hard             -0.3441769  0.39067750 -0.12235513 -0.20555661    -0.13867505\n",
       "bar               0.5974211 -0.51506558  0.33396002  0.26041960     0.52297636\n",
       "pluribus         -0.3396752  0.29972522 -0.26958501 -0.20610932    -0.31033884\n",
       "sugarpercent      0.1041691 -0.03439296  0.22193335  0.08788927     0.12308135\n",
       "pricepercent      0.5046754 -0.43096853  0.25432709  0.30915323     0.15319643\n",
       "winpercent        0.6365167 -0.38093814  0.21341630  0.40619220     0.19937530\n",
       "                 crispedricewafer hard        bar         pluribus   \n",
       "chocolate         0.34120978      -0.34417691  0.59742114 -0.33967519\n",
       "fruity           -0.26936712       0.39067750 -0.51506558  0.29972522\n",
       "caramel           0.21311310      -0.12235513  0.33396002 -0.26958501\n",
       "peanutyalmondy   -0.01764631      -0.20555661  0.26041960 -0.20610932\n",
       "nougat           -0.08974359      -0.13867505  0.52297636 -0.31033884\n",
       "crispedricewafer  1.00000000      -0.13867505  0.42375093 -0.22469338\n",
       "hard             -0.13867505       1.00000000 -0.26516504  0.01453172\n",
       "bar               0.42375093      -0.26516504  1.00000000 -0.59340892\n",
       "pluribus         -0.22469338       0.01453172 -0.59340892  1.00000000\n",
       "sugarpercent      0.06994969       0.09180975  0.09998516  0.04552282\n",
       "pricepercent      0.32826539      -0.24436534  0.51840654 -0.22079363\n",
       "winpercent        0.32467965      -0.31038158  0.42992933 -0.24744787\n",
       "                 sugarpercent pricepercent winpercent\n",
       "chocolate         0.10416906   0.5046754    0.6365167\n",
       "fruity           -0.03439296  -0.4309685   -0.3809381\n",
       "caramel           0.22193335   0.2543271    0.2134163\n",
       "peanutyalmondy    0.08788927   0.3091532    0.4061922\n",
       "nougat            0.12308135   0.1531964    0.1993753\n",
       "crispedricewafer  0.06994969   0.3282654    0.3246797\n",
       "hard              0.09180975  -0.2443653   -0.3103816\n",
       "bar               0.09998516   0.5184065    0.4299293\n",
       "pluribus          0.04552282  -0.2207936   -0.2474479\n",
       "sugarpercent      1.00000000   0.3297064    0.2291507\n",
       "pricepercent      0.32970639   1.0000000    0.3453254\n",
       "winpercent        0.22915066   0.3453254    1.0000000"
      ]
     },
     "metadata": {},
     "output_type": "display_data"
    }
   ],
   "source": [
    "# Plot the correlation matrix\n",
    "# .... YOUR CODE FOR TASK 6 ....\n",
    "candy_rankings %>% select (chocolate:winpercent) %>% cor()"
   ]
  },
  {
   "cell_type": "code",
   "execution_count": 83,
   "metadata": {
    "dc": {
     "key": "39"
    },
    "hide": true,
    "tags": [
     "tests"
    ]
   },
   "outputs": [
    {
     "data": {
      "application/json": "{\"success\":true,\"summary\":{\"tests\":1,\"failures\":0,\"errors\":0},\"tests\":[{\"name\":\"The correlation matrix is created correctly\",\"message\":\"`student_cor` not equal to `good_cor`.\\nEqual\",\"success\":true,\"outcome\":\"success\"}]}"
     },
     "metadata": {},
     "output_type": "display_data"
    },
    {
     "data": {
      "application/json": "{\"success\":true,\"summary\":{\"tests\":1,\"failures\":0,\"errors\":0},\"tests\":[{\"name\":\"The correlation matrix is created correctly\",\"message\":\"`student_cor` not equal to `good_cor`.\\nEqual\",\"success\":true,\"outcome\":\"success\"}]}"
     },
     "metadata": {},
     "output_type": "display_data"
    },
    {
     "data": {
      "text/plain": [
       "1/1 tests passed"
      ]
     },
     "metadata": {},
     "output_type": "display_data"
    }
   ],
   "source": [
    "student_cor <- .Last.value\n",
    "good_cor <- candy_rankings %>%\n",
    "  select(-competitorname) %>% \n",
    "  cor()\n",
    "\n",
    "run_tests({\n",
    "    test_that(\"The correlation matrix is created correctly\", {\n",
    "        expect_equal(student_cor, good_cor,\n",
    "                    info = \"Make sure you calculated the correlation matrix correctly.\")\n",
    "    })\n",
    "})"
   ]
  },
  {
   "cell_type": "markdown",
   "metadata": {
    "dc": {
     "key": "46"
    },
    "deletable": false,
    "editable": false,
    "run_control": {
     "frozen": true
    },
    "tags": [
     "context"
    ]
   },
   "source": [
    "## 7. Fitting a linear model of winpercent\n",
    "<p><img src=\"https://assets.datacamp.com/production/project_458/img/snickers.jpg\" style=\"float: left;margin:5px 20px 5px 1px;max-width: 33%\"></p>\n",
    "<p>Let's dive into the deep end of modeling by creating a linear model of <code>winpercent</code> using all the other variables except <code>competitorname</code>. </p>\n",
    "<p>Because <code>competitorname</code> is a categorical variable with a unique value in every row, it is mathematically impossible to fit a linear model if it is included. Moreover, this variable doesn't add any information that the model could use because the names do not relate to any of the candies' attributes.</p>\n",
    "<p>Let's fit the model! Then we can dive into exploring it. Maybe this will give us an idea of why people tend to prefer one candy over another!</p>"
   ]
  },
  {
   "cell_type": "code",
   "execution_count": 84,
   "metadata": {
    "dc": {
     "key": "46"
    },
    "tags": [
     "sample_code"
    ]
   },
   "outputs": [
    {
     "data": {
      "text/plain": [
       "\n",
       "Call:\n",
       "lm(formula = winpercent ~ . - competitorname, data = candy_rankings)\n",
       "\n",
       "Residuals:\n",
       "     Min       1Q   Median       3Q      Max \n",
       "-20.2244  -6.6247   0.1986   6.8420  23.8680 \n",
       "\n",
       "Coefficients:\n",
       "                     Estimate Std. Error t value Pr(>|t|)    \n",
       "(Intercept)           34.5340     4.3199   7.994 1.44e-11 ***\n",
       "chocolateTRUE         19.7481     3.8987   5.065 2.96e-06 ***\n",
       "fruityTRUE             9.4223     3.7630   2.504  0.01452 *  \n",
       "caramelTRUE            2.2245     3.6574   0.608  0.54493    \n",
       "peanutyalmondyTRUE    10.0707     3.6158   2.785  0.00681 ** \n",
       "nougatTRUE             0.8043     5.7164   0.141  0.88849    \n",
       "crispedricewaferTRUE   8.9190     5.2679   1.693  0.09470 .  \n",
       "hardTRUE              -6.1653     3.4551  -1.784  0.07852 .  \n",
       "barTRUE                0.4415     5.0611   0.087  0.93072    \n",
       "pluribusTRUE          -0.8545     3.0401  -0.281  0.77945    \n",
       "sugarpercent           9.0868     4.6595   1.950  0.05500 .  \n",
       "pricepercent          -5.9284     5.5132  -1.075  0.28578    \n",
       "---\n",
       "Signif. codes:  0 ‘***’ 0.001 ‘**’ 0.01 ‘*’ 0.05 ‘.’ 0.1 ‘ ’ 1\n",
       "\n",
       "Residual standard error: 10.7 on 73 degrees of freedom\n",
       "Multiple R-squared:  0.5402,\tAdjusted R-squared:  0.4709 \n",
       "F-statistic: 7.797 on 11 and 73 DF,  p-value: 9.504e-09\n"
      ]
     },
     "metadata": {},
     "output_type": "display_data"
    }
   ],
   "source": [
    "# Fit a linear model of winpercent explained by all variables \n",
    "# except competitorname\n",
    "win_mod <- lm(winpercent~ . -competitorname,candy_rankings)\n",
    "summary(win_mod)"
   ]
  },
  {
   "cell_type": "code",
   "execution_count": 85,
   "metadata": {
    "dc": {
     "key": "46"
    },
    "hide": true,
    "tags": [
     "tests"
    ]
   },
   "outputs": [
    {
     "data": {
      "application/json": "{\"success\":true,\"summary\":{\"tests\":1,\"failures\":0,\"errors\":0},\"tests\":[{\"name\":\"The model is correct.\",\"message\":\"good_mod$fitted.values not equal to win_mod$fitted.values.\\nEqual\",\"success\":true,\"outcome\":\"success\"}]}"
     },
     "metadata": {},
     "output_type": "display_data"
    },
    {
     "data": {
      "application/json": "{\"success\":true,\"summary\":{\"tests\":1,\"failures\":0,\"errors\":0},\"tests\":[{\"name\":\"The model is correct.\",\"message\":\"good_mod$fitted.values not equal to win_mod$fitted.values.\\nEqual\",\"success\":true,\"outcome\":\"success\"}]}"
     },
     "metadata": {},
     "output_type": "display_data"
    },
    {
     "data": {
      "text/plain": [
       "1/1 tests passed"
      ]
     },
     "metadata": {},
     "output_type": "display_data"
    }
   ],
   "source": [
    "good_mod <- lm(winpercent ~ . -competitorname, data = candy_rankings)\n",
    "\n",
    "run_tests({\n",
    "    test_that(\"The model is correct.\", {\n",
    "        expect_equal(good_mod$fitted.values, win_mod$fitted.values,\n",
    "                        info = \"Make sure you created the model correctly.\")\n",
    "    })\n",
    "})"
   ]
  },
  {
   "cell_type": "markdown",
   "metadata": {
    "dc": {
     "key": "53"
    },
    "deletable": false,
    "editable": false,
    "run_control": {
     "frozen": true
    },
    "tags": [
     "context"
    ]
   },
   "source": [
    "## 8. Evaluating the linear model\n",
    "<p>Let's see how we did! We'll take a look at the results of our linear model and run some basic diagnostics to make sure the output is reliable.</p>\n",
    "<p>Taking a look at the coefficients, we can make some conclusions about the factors that cause people to choose one candy over another. For example, it looks like people who took this survey really like peanut butter! There are a few other significant coefficients. Which ones are these?</p>"
   ]
  },
  {
   "cell_type": "code",
   "execution_count": 86,
   "metadata": {
    "dc": {
     "key": "53"
    },
    "tags": [
     "sample_code"
    ]
   },
   "outputs": [
    {
     "data": {
      "text/plain": [
       "\n",
       "Call:\n",
       "lm(formula = winpercent ~ . - competitorname, data = candy_rankings)\n",
       "\n",
       "Residuals:\n",
       "     Min       1Q   Median       3Q      Max \n",
       "-20.2244  -6.6247   0.1986   6.8420  23.8680 \n",
       "\n",
       "Coefficients:\n",
       "                     Estimate Std. Error t value Pr(>|t|)    \n",
       "(Intercept)           34.5340     4.3199   7.994 1.44e-11 ***\n",
       "chocolateTRUE         19.7481     3.8987   5.065 2.96e-06 ***\n",
       "fruityTRUE             9.4223     3.7630   2.504  0.01452 *  \n",
       "caramelTRUE            2.2245     3.6574   0.608  0.54493    \n",
       "peanutyalmondyTRUE    10.0707     3.6158   2.785  0.00681 ** \n",
       "nougatTRUE             0.8043     5.7164   0.141  0.88849    \n",
       "crispedricewaferTRUE   8.9190     5.2679   1.693  0.09470 .  \n",
       "hardTRUE              -6.1653     3.4551  -1.784  0.07852 .  \n",
       "barTRUE                0.4415     5.0611   0.087  0.93072    \n",
       "pluribusTRUE          -0.8545     3.0401  -0.281  0.77945    \n",
       "sugarpercent           9.0868     4.6595   1.950  0.05500 .  \n",
       "pricepercent          -5.9284     5.5132  -1.075  0.28578    \n",
       "---\n",
       "Signif. codes:  0 ‘***’ 0.001 ‘**’ 0.01 ‘*’ 0.05 ‘.’ 0.1 ‘ ’ 1\n",
       "\n",
       "Residual standard error: 10.7 on 73 degrees of freedom\n",
       "Multiple R-squared:  0.5402,\tAdjusted R-squared:  0.4709 \n",
       "F-statistic: 7.797 on 11 and 73 DF,  p-value: 9.504e-09\n"
      ]
     },
     "metadata": {},
     "output_type": "display_data"
    },
    {
     "data": {
      "image/png": "[encoded data removed]",
      "text/plain": [
       "plot without title"
      ]
     },
     "metadata": {
      "image/png": {
       "height": 420,
       "width": 420
      }
     },
     "output_type": "display_data"
    }
   ],
   "source": [
    "# Take a look at the summary\n",
    "# .... YOUR CODE FOR TASK 8 ....\n",
    "summary(win_mod)\n",
    "\n",
    "# Plot the residuals vs the fitted values\n",
    "# .... YOUR CODE FOR TASK 8 ....\n",
    "ggplot(augment(win_mod),aes(.fitted,.resid))+geom_point()+geom_hline(yintercept=0)"
   ]
  },
  {
   "cell_type": "code",
   "execution_count": 87,
   "metadata": {
    "dc": {
     "key": "53"
    },
    "hide": true,
    "tags": [
     "tests"
    ]
   },
   "outputs": [
    {
     "data": {
      "application/json": "{\"success\":true,\"summary\":{\"tests\":1,\"failures\":0,\"errors\":0},\"tests\":[{\"name\":\"The plot is correct.\",\"message\":\"p$data not equal to augment(win_mod).\\nTRUE\\np$mapping not equal to aes(.fitted, .resid).\\nTRUE\\np$layers not equal to list(geom_point(), geom_hline(yintercept = 0)).\\nTRUE\",\"success\":true,\"outcome\":\"success\"}]}"
     },
     "metadata": {},
     "output_type": "display_data"
    },
    {
     "data": {
      "application/json": "{\"success\":true,\"summary\":{\"tests\":1,\"failures\":0,\"errors\":0},\"tests\":[{\"name\":\"The plot is correct.\",\"message\":\"p$data not equal to augment(win_mod).\\nTRUE\\np$mapping not equal to aes(.fitted, .resid).\\nTRUE\\np$layers not equal to list(geom_point(), geom_hline(yintercept = 0)).\\nTRUE\",\"success\":true,\"outcome\":\"success\"}]}"
     },
     "metadata": {},
     "output_type": "display_data"
    },
    {
     "data": {
      "text/plain": [
       "1/1 tests passed"
      ]
     },
     "metadata": {},
     "output_type": "display_data"
    }
   ],
   "source": [
    "p <- last_plot()\n",
    "\n",
    "run_tests({\n",
    "    test_that(\"The plot is correct.\", {\n",
    "        expect_equal(p$data, augment(win_mod),\n",
    "                    info = \"Make sure you called ggplot() on the augment()-ed win_mod.\")\n",
    "        expect_equal(p$mapping, aes(.fitted, .resid),\n",
    "                    info = \"Make sure you mapped .fitted to the x aesthetic and .resid to the y aesthetic.\")\n",
    "        expect_equal(p$layers, list(geom_point(), geom_hline(yintercept = 0)),\n",
    "                    info = \"Make sure you used geom_point() and geom_hline() to make your plot.\")\n",
    "    })\n",
    "})"
   ]
  },
  {
   "cell_type": "markdown",
   "metadata": {
    "dc": {
     "key": "60"
    },
    "deletable": false,
    "editable": false,
    "run_control": {
     "frozen": true
    },
    "tags": [
     "context"
    ]
   },
   "source": [
    "## 9. Fit a logistic regression model of chocolate\n",
    "<p><img src=\"https://assets.datacamp.com/production/project_458/img/chocolate.jpg\" style=\"float: left;margin:5px 20px 5px 1px;max-width: 33%\"></p>\n",
    "<p>Now let's try out logistic regression! We'll be trying to predict if a candy is chocolaty or not based on all the other features in the dataset. </p>\n",
    "<p>A logistic regression is a great choice for this particular modeling task because the variable we're trying to predict is either <code>TRUE</code> or <code>FALSE</code>. The logistic regression model will output a probability that we can use to make our decision. </p>\n",
    "<p>This model outputs a warning because a few of the features (like <code>crispedricewafer</code>) are only ever true when a candy is chocolate. This means that we cannot draw conclusions from the coefficients, but we can still use the model to make predictions!</p>"
   ]
  },
  {
   "cell_type": "code",
   "execution_count": 88,
   "metadata": {
    "dc": {
     "key": "60"
    },
    "tags": [
     "sample_code"
    ]
   },
   "outputs": [
    {
     "name": "stderr",
     "output_type": "stream",
     "text": [
      "Warning message:\n",
      "“glm.fit: fitted probabilities numerically 0 or 1 occurred”\n"
     ]
    }
   ],
   "source": [
    "# Fit a glm() of chocolate\n",
    "choc_mod <- glm(chocolate~.-competitorname,candy_rankings,family='binomial')"
   ]
  },
  {
   "cell_type": "code",
   "execution_count": 89,
   "metadata": {
    "dc": {
     "key": "60"
    },
    "hide": true,
    "tags": [
     "tests"
    ]
   },
   "outputs": [
    {
     "name": "stderr",
     "output_type": "stream",
     "text": [
      "Warning message:\n",
      "“glm.fit: fitted probabilities numerically 0 or 1 occurred”\n"
     ]
    },
    {
     "data": {
      "application/json": "{\"success\":true,\"summary\":{\"tests\":1,\"failures\":0,\"errors\":0},\"tests\":[{\"name\":\"the model is correct.\",\"message\":\"good_mod$fitted.values not equal to choc_mod$fitted.values.\\nEqual\",\"success\":true,\"outcome\":\"success\"}]}"
     },
     "metadata": {},
     "output_type": "display_data"
    },
    {
     "data": {
      "application/json": "{\"success\":true,\"summary\":{\"tests\":1,\"failures\":0,\"errors\":0},\"tests\":[{\"name\":\"the model is correct.\",\"message\":\"good_mod$fitted.values not equal to choc_mod$fitted.values.\\nEqual\",\"success\":true,\"outcome\":\"success\"}]}"
     },
     "metadata": {},
     "output_type": "display_data"
    },
    {
     "data": {
      "text/plain": [
       "1/1 tests passed"
      ]
     },
     "metadata": {},
     "output_type": "display_data"
    }
   ],
   "source": [
    "good_mod <- glm(chocolate ~ . - competitorname, family = \"binomial\", data = candy_rankings)\n",
    "\n",
    "run_tests({\n",
    "    test_that(\"the model is correct.\", {\n",
    "        expect_equal(good_mod$fitted.values, choc_mod$fitted.values,\n",
    "                        info = \"Make sure you fit your logistic regression correctly.\")\n",
    "    })\n",
    "})"
   ]
  },
  {
   "cell_type": "markdown",
   "metadata": {
    "dc": {
     "key": "67"
    },
    "deletable": false,
    "editable": false,
    "run_control": {
     "frozen": true
    },
    "tags": [
     "context"
    ]
   },
   "source": [
    "## 10. Evaluate the logistic regression model\n",
    "<p>Let's take our logistic regression model out for a spin! We'll start by creating a data frame of predictions we can compare to the actual values. Then we'll evaluate the model by making a confusion matrix and calculating the accuracy.</p>\n",
    "<p>Looking at the summary, it looks like most of the coefficients aren't statistically significant. In this case, that's okay because we're not trying to draw any conclusions about the relationships between the predictor variables and the response. We're only trying to make accurate predictions and, taking a look at our confusion matrix, it seems like we did a pretty good job!</p>"
   ]
  },
  {
   "cell_type": "code",
   "execution_count": 90,
   "metadata": {
    "dc": {
     "key": "67"
    },
    "tags": [
     "sample_code"
    ]
   },
   "outputs": [
    {
     "data": {
      "text/plain": [
       "\n",
       "Call:\n",
       "glm(formula = chocolate ~ . - competitorname, family = \"binomial\", \n",
       "    data = candy_rankings)\n",
       "\n",
       "Deviance Residuals: \n",
       "     Min        1Q    Median        3Q       Max  \n",
       "-1.72224  -0.17612  -0.02787   0.01954   2.57898  \n",
       "\n",
       "Coefficients:\n",
       "                       Estimate Std. Error z value Pr(>|z|)   \n",
       "(Intercept)           -10.29370    4.12040  -2.498  0.01248 * \n",
       "fruityTRUE             -6.75305    2.20462  -3.063  0.00219 **\n",
       "caramelTRUE            -1.85093    1.66750  -1.110  0.26700   \n",
       "peanutyalmondyTRUE     -4.11907    2.98175  -1.381  0.16715   \n",
       "nougatTRUE            -16.74818 3520.13323  -0.005  0.99620   \n",
       "crispedricewaferTRUE   14.98331 4725.35051   0.003  0.99747   \n",
       "hardTRUE                1.83504    1.80742   1.015  0.30997   \n",
       "barTRUE                19.06799 3520.13379   0.005  0.99568   \n",
       "pluribusTRUE            0.22804    1.45457   0.157  0.87542   \n",
       "sugarpercent            0.12168    2.07707   0.059  0.95329   \n",
       "pricepercent            1.76626    2.24816   0.786  0.43208   \n",
       "winpercent              0.23019    0.08593   2.679  0.00739 **\n",
       "---\n",
       "Signif. codes:  0 ‘***’ 0.001 ‘**’ 0.01 ‘*’ 0.05 ‘.’ 0.1 ‘ ’ 1\n",
       "\n",
       "(Dispersion parameter for binomial family taken to be 1)\n",
       "\n",
       "    Null deviance: 116.407  on 84  degrees of freedom\n",
       "Residual deviance:  25.802  on 73  degrees of freedom\n",
       "AIC: 49.802\n",
       "\n",
       "Number of Fisher Scoring iterations: 19\n"
      ]
     },
     "metadata": {},
     "output_type": "display_data"
    },
    {
     "data": {
      "text/html": [
       "0.964705882352941"
      ],
      "text/latex": [
       "0.964705882352941"
      ],
      "text/markdown": [
       "0.964705882352941"
      ],
      "text/plain": [
       "[1] 0.9647059"
      ]
     },
     "metadata": {},
     "output_type": "display_data"
    }
   ],
   "source": [
    "# Print the summary\n",
    "summary(choc_mod)\n",
    "\n",
    "# Make a data frame of predictions\n",
    "preds <- augment(choc_mod, type.predict = \"response\") %>% \n",
    "  mutate(prediction = .fitted > .5)\n",
    "\n",
    "# Create the confusion matrix\n",
    "conf_mat <- preds %>%\n",
    "  select(chocolate, prediction) %>% \n",
    "  table()\n",
    "\n",
    "# Calculate the accuracy\n",
    "accuracy <- sum(diag(conf_mat))/sum(conf_mat)\n",
    "accuracy"
   ]
  },
  {
   "cell_type": "code",
   "execution_count": 91,
   "metadata": {
    "dc": {
     "key": "67"
    },
    "hide": true,
    "tags": [
     "tests"
    ]
   },
   "outputs": [
    {
     "data": {
      "application/json": "{\"success\":true,\"summary\":{\"tests\":3,\"failures\":0,\"errors\":0},\"tests\":[{\"name\":\"The predictions are correct.\",\"message\":\"augment(choc_mod, type.predict = \\\"response\\\") %>% ... not equal to `preds`.\\nTRUE\",\"success\":true,\"outcome\":\"success\"},{\"name\":\"The confusion matrix is correct.\",\"message\":\"preds %>% select(chocolate, prediction) %>% table() not equivalent to `conf_mat`.\\nTRUE\",\"success\":true,\"outcome\":\"success\"},{\"name\":\"The accuracy is correct.\",\"message\":\"sum(diag(conf_mat))/sum(conf_mat) not equal to `accuracy`.\\nEqual\",\"success\":true,\"outcome\":\"success\"}]}"
     },
     "metadata": {},
     "output_type": "display_data"
    },
    {
     "data": {
      "application/json": "{\"success\":true,\"summary\":{\"tests\":3,\"failures\":0,\"errors\":0},\"tests\":[{\"name\":\"The predictions are correct.\",\"message\":\"augment(choc_mod, type.predict = \\\"response\\\") %>% ... not equal to `preds`.\\nTRUE\",\"success\":true,\"outcome\":\"success\"},{\"name\":\"The confusion matrix is correct.\",\"message\":\"preds %>% select(chocolate, prediction) %>% table() not equivalent to `conf_mat`.\\nTRUE\",\"success\":true,\"outcome\":\"success\"},{\"name\":\"The accuracy is correct.\",\"message\":\"sum(diag(conf_mat))/sum(conf_mat) not equal to `accuracy`.\\nEqual\",\"success\":true,\"outcome\":\"success\"}]}"
     },
     "metadata": {},
     "output_type": "display_data"
    },
    {
     "data": {
      "text/plain": [
       "3/3 tests passed"
      ]
     },
     "metadata": {},
     "output_type": "display_data"
    }
   ],
   "source": [
    "run_tests({\n",
    "    test_that(\"The predictions are correct.\", {\n",
    "        expect_equal(augment(choc_mod, type.predict = \"response\") %>% mutate(prediction = .fitted > .5), preds,\n",
    "                        info = \"Make sure you created your predictions correctly.\")\n",
    "    })\n",
    "    test_that(\"The confusion matrix is correct.\", {\n",
    "        expect_equivalent(preds %>% select(chocolate, prediction) %>% table(), conf_mat,\n",
    "                        info = \"Make sure you created the cofusion matrix correctly.\")\n",
    "    })\n",
    "    test_that(\"The accuracy is correct.\", {\n",
    "        expect_equal(sum(diag(conf_mat))/sum(conf_mat), accuracy,\n",
    "                        info = \"Make sure you calculated the accuracy correctly.\")\n",
    "    })\n",
    "})"
   ]
  }
 ],
 "metadata": {
  "kernelspec": {
   "display_name": "R",
   "language": "R",
   "name": "ir"
  },
  "language_info": {
   "codemirror_mode": "r",
   "file_extension": ".r",
   "mimetype": "text/x-r-source",
   "name": "R",
   "pygments_lexer": "r",
   "version": "4.1.2"
  }
 },
 "nbformat": 4,
 "nbformat_minor": 2
}
