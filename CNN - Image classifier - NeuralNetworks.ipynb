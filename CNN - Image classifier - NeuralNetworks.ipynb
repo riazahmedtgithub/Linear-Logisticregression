{
 "cells": [
  {
   "cell_type": "markdown",
   "id": "4e5ff182",
   "metadata": {},
   "source": [
    "# 10.2 Exercise: Building a CNN Image Classifier"
   ]
  },
  {
   "cell_type": "code",
   "execution_count": 109,
   "id": "d79bef2f",
   "metadata": {},
   "outputs": [],
   "source": [
    "# Downloading and installing the required libraries\n",
    "\n",
    "#%pip install tensorflow\n",
    "#%pip install opencv-python\n",
    "import tensorflow as tf\n",
    "from tensorflow import keras\n",
    "import numpy as np\n",
    "from keras.datasets import mnist\n",
    "from keras.models import Sequential\n",
    "from keras.layers import Dense, Dropout, Flatten\n",
    "from tensorflow.keras.layers import Conv2D, MaxPooling2D\n",
    "from tensorflow.keras.utils import to_categorical\n",
    "from keras import backend as K\n",
    "import cv2\n",
    "import numpy as np\n",
    "from matplotlib import pyplot as plt\n",
    "\n",
    "\n",
    "# Set that the color channel value will be first\n",
    "K.set_image_data_format(\"channels_first\")\n",
    "# Set seed\n",
    "np.random.seed(0)\n",
    "# Set image information\n",
    "channels = 1\n",
    "height = 28\n",
    "width = 28\n",
    "# Load data and target from MNIST data\n",
    "(data_train, target_train), (data_test, target_test) = mnist.load_data()\n"
   ]
  },
  {
   "cell_type": "code",
   "execution_count": 110,
   "id": "7510f27b",
   "metadata": {},
   "outputs": [
    {
     "name": "stdout",
     "output_type": "stream",
     "text": [
      "The shape of the loaded dataset is\n",
      "\n",
      " (60000, 28, 28) \n",
      "\n",
      "The above shape means there are 60000 images each of 28*28 pixel size\n",
      "\n",
      "\n",
      "The shape of the target test dataset is\n",
      "\n",
      " (10000,) \n",
      "\n"
     ]
    }
   ],
   "source": [
    "print (\"The shape of the loaded dataset is\\n\\n\",data_train.shape,'\\n')\n",
    "\n",
    "print (\"The above shape means there are 60000 images each of 28*28 pixel size\\n\\n\")\n",
    "\n",
    "print (\"The shape of the target test dataset is\\n\\n\",target_test.shape,'\\n')\n"
   ]
  },
  {
   "cell_type": "code",
   "execution_count": 111,
   "id": "7e2b6a2a",
   "metadata": {},
   "outputs": [
    {
     "data": {
      "image/png": "[encoded data removed]",
      "text/plain": [
       "<Figure size 1000x200 with 5 Axes>"
      ]
     },
     "metadata": {},
     "output_type": "display_data"
    }
   ],
   "source": [
    "# Displaying the first 5 images in grayscale\n",
    "\n",
    "plt.figure(figsize=(10, 2))\n",
    "for i in range(5):\n",
    "    plt.subplot(1, 5, i + 1)\n",
    "    plt.imshow(data_train[i], cmap='gray')\n",
    "    plt.axis('off')\n",
    "\n",
    "plt.show()"
   ]
  },
  {
   "cell_type": "code",
   "execution_count": 112,
   "id": "c04f117b",
   "metadata": {},
   "outputs": [
    {
     "name": "stdout",
     "output_type": "stream",
     "text": [
      "The following are the first 5 training labels\n",
      "\n",
      " [5 0 4 1 9] \n",
      "\n",
      "The displayed image number is the same as found in target variable\n",
      "\n"
     ]
    }
   ],
   "source": [
    "print (\"The following are the first 5 training labels\\n\\n\",target_train[:5],'\\n')\n",
    "print (\"The displayed image number is the same as found in target variable\\n\")"
   ]
  },
  {
   "cell_type": "markdown",
   "id": "4591daa4",
   "metadata": {},
   "source": [
    "Build and train a Keras CNN classifier on the MNIST training set."
   ]
  },
  {
   "cell_type": "code",
   "execution_count": 113,
   "id": "1a94cfb9",
   "metadata": {},
   "outputs": [
    {
     "name": "stdout",
     "output_type": "stream",
     "text": [
      "Following is the new shape of train dataset after including channels first\n",
      " (60000, 1, 28, 28)\n",
      "Following is the shape of target train \n",
      " (60000,)\n"
     ]
    }
   ],
   "source": [
    "# We are setting the channels first and the channel is 1, as it is gray scale\n",
    "\n",
    "# Reshape training image data into features\n",
    "data_train = data_train.reshape(data_train.shape[0], channels, height, width)\n",
    "# Reshape test image data into features\n",
    "data_test = data_test.reshape(data_test.shape[0], channels, height, width)\n",
    "print (\"Following is the new shape of train dataset after including channels first\\n\",data_train.shape)\n",
    "print (\"Following is the shape of target train \\n\",target_train.shape)\n"
   ]
  },
  {
   "cell_type": "code",
   "execution_count": 114,
   "id": "917789cd",
   "metadata": {},
   "outputs": [
    {
     "name": "stdout",
     "output_type": "stream",
     "text": [
      "The total number of columns will be 10 corresponding to the number 0 to 9\n",
      " 10\n"
     ]
    },
    {
     "data": {
      "text/plain": [
       "(10000, 10)"
      ]
     },
     "execution_count": 114,
     "metadata": {},
     "output_type": "execute_result"
    }
   ],
   "source": [
    "# Rescale pixel intensity to between 0 and 1\n",
    "# As the maximum value of pixel intensity is 255 dividing by that.\n",
    "features_train = data_train / 255\n",
    "features_test = data_test / 255\n",
    "\n",
    "# One-hot encode target\n",
    "target_train = tf.keras.utils.to_categorical(target_train)\n",
    "target_test = tf.keras.utils.to_categorical(target_test)\n",
    "number_of_classes = target_test.shape[1]\n",
    "print ('The total number of columns will be 10 corresponding to the number 0 to 9\\n',number_of_classes)\n",
    "target_test.shape"
   ]
  },
  {
   "cell_type": "code",
   "execution_count": 7,
   "id": "214fea34",
   "metadata": {},
   "outputs": [
    {
     "name": "stderr",
     "output_type": "stream",
     "text": [
      "C:\\Users\\Riaz\\anaconda3\\Lib\\site-packages\\keras\\src\\layers\\convolutional\\base_conv.py:107: UserWarning: Do not pass an `input_shape`/`input_dim` argument to a layer. When using Sequential models, prefer using an `Input(shape)` object as the first layer in the model instead.\n",
      "  super().__init__(activity_regularizer=activity_regularizer, **kwargs)\n"
     ]
    },
    {
     "data": {
      "text/plain": [
       "<keras.src.callbacks.history.History at 0x1f0e4cf3090>"
      ]
     },
     "execution_count": 7,
     "metadata": {},
     "output_type": "execute_result"
    }
   ],
   "source": [
    "# Start neural network\n",
    "network = Sequential()\n",
    "# Add convolutional layer with 64 filters, a 5x5 window, and ReLU activation function\n",
    "network.add(Conv2D(filters=64,kernel_size=(5, 5),input_shape=(channels, width, height),activation='relu'))\n",
    "# Add max pooling layer with a 2x2 window\n",
    "network.add(MaxPooling2D(pool_size=(2, 2)))\n",
    "# Add dropout layer\n",
    "network.add(Dropout(0.5))\n",
    "# Add layer to flatten input\n",
    "network.add(Flatten())\n",
    "# # Add fully connected layer of 128 units with a ReLU activation function\n",
    "network.add(Dense(128, activation=\"relu\"))\n",
    "# Add dropout layer\n",
    "network.add(Dropout(0.5))\n",
    "# Add fully connected layer with a softmax activation function\n",
    "network.add(Dense(number_of_classes, activation=\"softmax\"))\n",
    "# Compile neural network\n",
    "network.compile(loss=\"categorical_crossentropy\", optimizer=\"rmsprop\",metrics=[\"accuracy\"])\n",
    "# Train neural network\n",
    "network.fit(features_train, target_train,epochs=2, verbose=0,batch_size=1000,validation_data=(features_test, target_test)) # Data for evaluation\n",
    "\n"
   ]
  },
  {
   "cell_type": "markdown",
   "id": "90ef522f",
   "metadata": {},
   "source": [
    "The accuracy of the model on Test data is,"
   ]
  },
  {
   "cell_type": "code",
   "execution_count": 9,
   "id": "8f03e4ed",
   "metadata": {},
   "outputs": [
    {
     "name": "stdout",
     "output_type": "stream",
     "text": [
      "\u001b[1m313/313\u001b[0m \u001b[32m━━━━━━━━━━━━━━━━━━━━\u001b[0m\u001b[37m\u001b[0m \u001b[1m138s\u001b[0m 437ms/step - accuracy: 0.9630 - loss: 0.1269\n",
      "Test Accuracy: 97.00%\n"
     ]
    }
   ],
   "source": [
    "loss, accuracy = network.evaluate(features_test, target_test)\n",
    "print(f'Test Accuracy: {accuracy * 100:.2f}%')"
   ]
  },
  {
   "cell_type": "markdown",
   "id": "3d941f7d",
   "metadata": {},
   "source": [
    "Displaying the confusion matrix on the test set classifications.  \n",
    "To do the same, we are predicting using the model for the test dataset.  \n",
    "\n"
   ]
  },
  {
   "cell_type": "code",
   "execution_count": 64,
   "id": "af69ce6f",
   "metadata": {},
   "outputs": [
    {
     "name": "stdout",
     "output_type": "stream",
     "text": [
      "\u001b[1m313/313\u001b[0m \u001b[32m━━━━━━━━━━━━━━━━━━━━\u001b[0m\u001b[37m\u001b[0m \u001b[1m140s\u001b[0m 444ms/step\n"
     ]
    }
   ],
   "source": [
    "test_pred=network.predict(features_test)"
   ]
  },
  {
   "cell_type": "markdown",
   "id": "59a095bb",
   "metadata": {},
   "source": [
    "Creating Confusion Matrix  \n",
    "\n",
    "- To get the confusion matrix, the predicted output should be normalized to either 0 or 1.  This is being done by replacing the array elements with value 1, if the predicted value is more than 0.5.  If not value 0.  \n"
   ]
  },
  {
   "cell_type": "code",
   "execution_count": 98,
   "id": "0912ca95",
   "metadata": {},
   "outputs": [
    {
     "name": "stdout",
     "output_type": "stream",
     "text": [
      "After normalizing to 0 and 1 the predicted output is\n",
      " [[0. 0. 0. ... 1. 0. 0.]\n",
      " [0. 0. 1. ... 0. 0. 0.]\n",
      " [0. 1. 0. ... 0. 0. 0.]\n",
      " ...\n",
      " [0. 0. 0. ... 0. 0. 0.]\n",
      " [0. 0. 0. ... 0. 0. 0.]\n",
      " [0. 0. 0. ... 0. 0. 0.]]\n"
     ]
    }
   ],
   "source": [
    "#target_test\n",
    "\n",
    "normalized_pred = test_pred\n",
    "\n",
    "normalized_pred[normalized_pred > 0.5] = 1\n",
    "normalized_pred[normalized_pred <= 0.5] = 0\n",
    "print (\"After normalizing to 0 and 1 the predicted output is\\n\",normalized_pred)"
   ]
  },
  {
   "cell_type": "code",
   "execution_count": 115,
   "id": "97aa6900",
   "metadata": {},
   "outputs": [
    {
     "name": "stdout",
     "output_type": "stream",
     "text": [
      "The confusion matrix for Test dataset is\n",
      "\n",
      " [[[8993   27]\n",
      "  [  13  967]]\n",
      "\n",
      " [[8842   23]\n",
      "  [  11 1124]]\n",
      "\n",
      " [[8946   22]\n",
      "  [  61  971]]\n",
      "\n",
      " [[8982    8]\n",
      "  [  59  951]]\n",
      "\n",
      " [[8984   34]\n",
      "  [  21  961]]\n",
      "\n",
      " [[9095   13]\n",
      "  [  31  861]]\n",
      "\n",
      " [[9028   14]\n",
      "  [  28  930]]\n",
      "\n",
      " [[8945   27]\n",
      "  [  46  982]]\n",
      "\n",
      " [[8978   48]\n",
      "  [  33  941]]\n",
      "\n",
      " [[8982    9]\n",
      "  [  76  933]]]\n"
     ]
    }
   ],
   "source": [
    "# As we are having multi class output from 0 to 9, multilabel_confusion_matrix function has been used,\n",
    "\n",
    "from sklearn.metrics import confusion_matrix, ConfusionMatrixDisplay\n",
    "from sklearn.metrics import classification_report, multilabel_confusion_matrix\n",
    "# Generate the confusion matrix\n",
    "cm = multilabel_confusion_matrix(target_test, normalized_pred)\n",
    "print(\"The confusion matrix for Test dataset is\\n\\n\",cm)"
   ]
  },
  {
   "cell_type": "markdown",
   "id": "26a5a731",
   "metadata": {},
   "source": [
    "# Summary:  \n",
    "\n",
    "        - Loaded the dataset from the libary.  \n",
    "        - Displayed the first five images in the training data set and compared with the first five training labels.  The images and the number in the target matched.  \n",
    "        - Built and trained a Keras CNN classifier.  \n",
    "        - Predicted using the trained model and tested the accuracy.  It was found to be 97%.  \n",
    "        - Displayed a confusion matrix on the test set classifications using multilabel_confusion_matrix, as the target labels are not binary.  \n",
    "\n",
    "\n",
    "\n",
    "\n"
   ]
  }
 ],
 "metadata": {
  "kernelspec": {
   "display_name": "Python 3 (ipykernel)",
   "language": "python",
   "name": "python3"
  },
  "language_info": {
   "codemirror_mode": {
    "name": "ipython",
    "version": 3
   },
   "file_extension": ".py",
   "mimetype": "text/x-python",
   "name": "python",
   "nbconvert_exporter": "python",
   "pygments_lexer": "ipython3",
   "version": "3.11.5"
  }
 },
 "nbformat": 4,
 "nbformat_minor": 5
}
