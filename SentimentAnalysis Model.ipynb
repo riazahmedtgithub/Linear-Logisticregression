{
 "cells": [
  {
   "cell_type": "markdown",
   "id": "9d83af97",
   "metadata": {},
   "source": [
    "# 5.2 Exercise: Build your own Sentiment Analysis Model"
   ]
  },
  {
   "cell_type": "markdown",
   "id": "178c1f86",
   "metadata": {},
   "source": [
    "From the Week 3 excercise, we have completed the following using NLTK library,  \n",
    "\n",
    "Tokenized the words using word_tokenize.   \n",
    "Removed the punctuation using transalation.   \n",
    "Removed the by using stopwords.words('english').  \n",
    "Used the PorterStemmer to get the stem of the words.  \n",
    "Used the to_csv function with index = false, to convert the dataframe from the week and saved locally.\n",
    "Used read_csv function to read the previously created cleaned dataframe.  \n",
    "\n"
   ]
  },
  {
   "cell_type": "code",
   "execution_count": 32,
   "id": "8949d82a",
   "metadata": {},
   "outputs": [
    {
     "data": {
      "text/html": [
       "<div>\n",
       "<style scoped>\n",
       "    .dataframe tbody tr th:only-of-type {\n",
       "        vertical-align: middle;\n",
       "    }\n",
       "\n",
       "    .dataframe tbody tr th {\n",
       "        vertical-align: top;\n",
       "    }\n",
       "\n",
       "    .dataframe thead th {\n",
       "        text-align: right;\n",
       "    }\n",
       "</style>\n",
       "<table border=\"1\" class=\"dataframe\">\n",
       "  <thead>\n",
       "    <tr style=\"text-align: right;\">\n",
       "      <th></th>\n",
       "      <th>id</th>\n",
       "      <th>sentiment</th>\n",
       "      <th>review</th>\n",
       "      <th>review_trans</th>\n",
       "    </tr>\n",
       "  </thead>\n",
       "  <tbody>\n",
       "    <tr>\n",
       "      <th>0</th>\n",
       "      <td>5814_8</td>\n",
       "      <td>1</td>\n",
       "      <td>with all this stuff going down at the moment w...</td>\n",
       "      <td>stuff go moment mj ive start listen music watc...</td>\n",
       "    </tr>\n",
       "    <tr>\n",
       "      <th>1</th>\n",
       "      <td>2381_9</td>\n",
       "      <td>1</td>\n",
       "      <td>\\the classic war of the worlds\\\" by timothy hi...</td>\n",
       "      <td>classic war world timothi hine entertain film ...</td>\n",
       "    </tr>\n",
       "    <tr>\n",
       "      <th>2</th>\n",
       "      <td>7759_3</td>\n",
       "      <td>0</td>\n",
       "      <td>the film starts with a manager (nicholas bell)...</td>\n",
       "      <td>film start manag nichola bell give welcom inve...</td>\n",
       "    </tr>\n",
       "    <tr>\n",
       "      <th>3</th>\n",
       "      <td>3630_4</td>\n",
       "      <td>0</td>\n",
       "      <td>it must be assumed that those who praised this...</td>\n",
       "      <td>must assum prais film greatest film opera ever...</td>\n",
       "    </tr>\n",
       "    <tr>\n",
       "      <th>4</th>\n",
       "      <td>9495_8</td>\n",
       "      <td>1</td>\n",
       "      <td>superbly trashy and wondrously unpretentious 8...</td>\n",
       "      <td>superbl trashi wondrous unpretenti 80 exploit ...</td>\n",
       "    </tr>\n",
       "    <tr>\n",
       "      <th>...</th>\n",
       "      <td>...</td>\n",
       "      <td>...</td>\n",
       "      <td>...</td>\n",
       "      <td>...</td>\n",
       "    </tr>\n",
       "    <tr>\n",
       "      <th>24995</th>\n",
       "      <td>3453_3</td>\n",
       "      <td>0</td>\n",
       "      <td>it seems like more consideration has gone into...</td>\n",
       "      <td>seem like consider gone imdb review film went ...</td>\n",
       "    </tr>\n",
       "    <tr>\n",
       "      <th>24996</th>\n",
       "      <td>5064_1</td>\n",
       "      <td>0</td>\n",
       "      <td>i don't believe they made this film. completel...</td>\n",
       "      <td>dont believ made film complet unnecessari firs...</td>\n",
       "    </tr>\n",
       "    <tr>\n",
       "      <th>24997</th>\n",
       "      <td>10905_3</td>\n",
       "      <td>0</td>\n",
       "      <td>guy is a loser. can't get girls, needs to buil...</td>\n",
       "      <td>guy loser cant get girl need build pick strong...</td>\n",
       "    </tr>\n",
       "    <tr>\n",
       "      <th>24998</th>\n",
       "      <td>10194_3</td>\n",
       "      <td>0</td>\n",
       "      <td>this 30 minute documentary buñuel made in the ...</td>\n",
       "      <td>30 minut documentari buñuel made earli 1930 on...</td>\n",
       "    </tr>\n",
       "    <tr>\n",
       "      <th>24999</th>\n",
       "      <td>8478_8</td>\n",
       "      <td>1</td>\n",
       "      <td>i saw this movie as a child and it broke my he...</td>\n",
       "      <td>saw movi child broke heart stori unfinish end ...</td>\n",
       "    </tr>\n",
       "  </tbody>\n",
       "</table>\n",
       "<p>25000 rows × 4 columns</p>\n",
       "</div>"
      ],
      "text/plain": [
       "            id  sentiment                                             review  \\\n",
       "0       5814_8          1  with all this stuff going down at the moment w...   \n",
       "1       2381_9          1  \\the classic war of the worlds\\\" by timothy hi...   \n",
       "2       7759_3          0  the film starts with a manager (nicholas bell)...   \n",
       "3       3630_4          0  it must be assumed that those who praised this...   \n",
       "4       9495_8          1  superbly trashy and wondrously unpretentious 8...   \n",
       "...        ...        ...                                                ...   \n",
       "24995   3453_3          0  it seems like more consideration has gone into...   \n",
       "24996   5064_1          0  i don't believe they made this film. completel...   \n",
       "24997  10905_3          0  guy is a loser. can't get girls, needs to buil...   \n",
       "24998  10194_3          0  this 30 minute documentary buñuel made in the ...   \n",
       "24999   8478_8          1  i saw this movie as a child and it broke my he...   \n",
       "\n",
       "                                            review_trans  \n",
       "0      stuff go moment mj ive start listen music watc...  \n",
       "1      classic war world timothi hine entertain film ...  \n",
       "2      film start manag nichola bell give welcom inve...  \n",
       "3      must assum prais film greatest film opera ever...  \n",
       "4      superbl trashi wondrous unpretenti 80 exploit ...  \n",
       "...                                                  ...  \n",
       "24995  seem like consider gone imdb review film went ...  \n",
       "24996  dont believ made film complet unnecessari firs...  \n",
       "24997  guy loser cant get girl need build pick strong...  \n",
       "24998  30 minut documentari buñuel made earli 1930 on...  \n",
       "24999  saw movi child broke heart stori unfinish end ...  \n",
       "\n",
       "[25000 rows x 4 columns]"
      ]
     },
     "execution_count": 32,
     "metadata": {},
     "output_type": "execute_result"
    }
   ],
   "source": [
    "# Load the dataset as a Pandas data frame.\n",
    "\n",
    "import pandas as pd\n",
    "\n",
    "stemmeddata = pd.read_csv(r'C:\\Users\\Riaz\\Desktop\\MSDS\\Data Mining\\Week 5\\stemmeddata.csv')\n",
    "\n",
    "# Required libraries are imported and using the read_csv function the dataframe has been loaded from csv file.\n",
    "\n",
    "stemmeddata"
   ]
  },
  {
   "cell_type": "code",
   "execution_count": 33,
   "id": "f83555fa",
   "metadata": {},
   "outputs": [],
   "source": [
    "# Splitting the data into train and test by using the train_test_split function and passing the testsize as 0.2 to denote 20%\n",
    "\n",
    "from sklearn.model_selection import train_test_split\n",
    "stemmeddata_train, stemmeddata_test, sentiment_train, sentiment_test = train_test_split(stemmeddata['review_trans'], stemmeddata['sentiment'], test_size=0.2, random_state=42)\n",
    "\n"
   ]
  },
  {
   "cell_type": "code",
   "execution_count": 34,
   "id": "9b86cd69",
   "metadata": {},
   "outputs": [
    {
     "name": "stdout",
     "output_type": "stream",
     "text": [
      "The sparse matrix of training dataset is\n",
      "   (0, 71195)\t0.04877844355146367\n",
      "  (0, 70946)\t0.07724967372328766\n",
      "  (0, 70398)\t0.10146313768269964\n",
      "  (0, 69751)\t0.03262306858155704\n",
      "  (0, 69520)\t0.0340907743314614\n",
      "  (0, 68214)\t0.1468766439095523\n",
      "  (0, 67278)\t0.06267195567574085\n",
      "  (0, 66270)\t0.03813224845611727\n",
      "  (0, 66061)\t0.04419533857693948\n",
      "  (0, 65885)\t0.06699722324244049\n",
      "  (0, 65835)\t0.05116581530950597\n",
      "  (0, 64811)\t0.05111027463249726\n",
      "  (0, 64432)\t0.0863920671025752\n",
      "  (0, 64205)\t0.05282538829060726\n",
      "  (0, 63928)\t0.034914830422654815\n",
      "  (0, 62144)\t0.07579103130507554\n",
      "  (0, 61642)\t0.10612082044487717\n",
      "  (0, 60924)\t0.10378298280403205\n",
      "  (0, 60330)\t0.08750774365897139\n",
      "  (0, 60252)\t0.08693909185265546\n",
      "  (0, 59674)\t0.10241194420200066\n",
      "  (0, 59257)\t0.08339846334616086\n",
      "  (0, 59102)\t0.10744961226918635\n",
      "  (0, 57872)\t0.0583389026709304\n",
      "  (0, 57666)\t0.03653739557703778\n",
      "  :\t:\n",
      "  (19999, 28058)\t0.08520259431423319\n",
      "  (19999, 27158)\t0.05239569413893726\n",
      "  (19999, 25904)\t0.22295530029939414\n",
      "  (19999, 23137)\t0.0671868515221006\n",
      "  (19999, 23126)\t0.09780481462468166\n",
      "  (19999, 21920)\t0.08796132189855692\n",
      "  (19999, 21515)\t0.09479746340101321\n",
      "  (19999, 20747)\t0.13913955674948952\n",
      "  (19999, 20552)\t0.051271688882394105\n",
      "  (19999, 19694)\t0.10392959594178666\n",
      "  (19999, 18317)\t0.1397224145738231\n",
      "  (19999, 17882)\t0.163471894895589\n",
      "  (19999, 17797)\t0.0642944731427312\n",
      "  (19999, 16342)\t0.06851026573910582\n",
      "  (19999, 14772)\t0.22305516314953872\n",
      "  (19999, 14547)\t0.13033106543659329\n",
      "  (19999, 13013)\t0.09955190768858416\n",
      "  (19999, 8980)\t0.07684741137497739\n",
      "  (19999, 7624)\t0.12321679968945529\n",
      "  (19999, 5830)\t0.11934348677348429\n",
      "  (19999, 5276)\t0.08710107402454519\n",
      "  (19999, 4284)\t0.06481007686309494\n",
      "  (19999, 3592)\t0.10372121407320392\n",
      "  (19999, 3577)\t0.08842676114702588\n",
      "  (19999, 1048)\t0.10509114255656644\n"
     ]
    }
   ],
   "source": [
    "# Creating TfidfVectorizer object and fitting the data from training subset\n",
    "\n",
    "from sklearn.feature_extraction.text import TfidfVectorizer\n",
    "tfidf = TfidfVectorizer()\n",
    "tfidf.fit(stemmeddata_train)\n",
    "\n",
    "# After fitting the data, we are converting to sparse matrix of tf-idf values by using transform\n",
    "\n",
    "stemmeddata_train_tfidf=tfidf.transform(stemmeddata_train)\n",
    "print(\"The sparse matrix of training dataset is\\n\",stemmeddata_train_tfidf)\n"
   ]
  },
  {
   "cell_type": "code",
   "execution_count": 35,
   "id": "4fe547e9",
   "metadata": {},
   "outputs": [
    {
     "name": "stdout",
     "output_type": "stream",
     "text": [
      "The sparse matrix of test dataset is\n",
      "   (0, 71210)\t0.17164971943307547\n",
      "  (0, 70750)\t0.0861941716608557\n",
      "  (0, 70314)\t0.08764143767763724\n",
      "  (0, 70097)\t0.12491503424717951\n",
      "  (0, 69408)\t0.05415370490935348\n",
      "  (0, 69384)\t0.09660708667232416\n",
      "  (0, 65618)\t0.07101619881816086\n",
      "  (0, 64486)\t0.05162785933162635\n",
      "  (0, 63813)\t0.09099486721382037\n",
      "  (0, 62120)\t0.09859137464721672\n",
      "  (0, 60398)\t0.08271213377930703\n",
      "  (0, 59577)\t0.18679975501541998\n",
      "  (0, 56438)\t0.3756722742773221\n",
      "  (0, 56186)\t0.06843949346445037\n",
      "  (0, 56181)\t0.14426318385687967\n",
      "  (0, 56175)\t0.06927563360227275\n",
      "  (0, 55889)\t0.08673402350075811\n",
      "  (0, 52219)\t0.09270275288492029\n",
      "  (0, 51921)\t0.18214291797522386\n",
      "  (0, 50366)\t0.16984958668207276\n",
      "  (0, 50294)\t0.13912477416026095\n",
      "  (0, 48406)\t0.12506884596733092\n",
      "  (0, 48259)\t0.12200996661890193\n",
      "  (0, 48091)\t0.06442398882328335\n",
      "  (0, 45912)\t0.04226437352862034\n",
      "  :\t:\n",
      "  (4999, 28496)\t0.07267603405096415\n",
      "  (4999, 28432)\t0.06642258554579081\n",
      "  (4999, 26502)\t0.0732947731344721\n",
      "  (4999, 25904)\t0.08526414248834738\n",
      "  (4999, 25695)\t0.15625858978632168\n",
      "  (4999, 25233)\t0.2005543841385905\n",
      "  (4999, 23501)\t0.050148189335304336\n",
      "  (4999, 23055)\t0.2005543841385905\n",
      "  (4999, 22293)\t0.06824873928277932\n",
      "  (4999, 21528)\t0.08248296413562782\n",
      "  (4999, 21353)\t0.05613103704500622\n",
      "  (4999, 21328)\t0.043894216797061035\n",
      "  (4999, 21072)\t0.12905818051555756\n",
      "  (4999, 19360)\t0.13314957958196402\n",
      "  (4999, 17855)\t0.14314003070102124\n",
      "  (4999, 14475)\t0.09966881897468662\n",
      "  (4999, 14326)\t0.08815395669495679\n",
      "  (4999, 11342)\t0.061298601626498334\n",
      "  (4999, 10992)\t0.08830702811318906\n",
      "  (4999, 10279)\t0.13402773744711619\n",
      "  (4999, 9253)\t0.06448504517252417\n",
      "  (4999, 9061)\t0.2237430192938844\n",
      "  (4999, 7937)\t0.1153562189914478\n",
      "  (4999, 6627)\t0.16561097626096427\n",
      "  (4999, 5308)\t0.12179144686460401\n"
     ]
    }
   ],
   "source": [
    "# Using the same tfidf object , which learned from train to create the tf-idf for test dataset,\n",
    "\n",
    "stemmeddata_test_tfidf=tfidf.transform(stemmeddata_test)\n",
    "print(\"The sparse matrix of test dataset is\\n\",stemmeddata_test_tfidf)"
   ]
  },
  {
   "cell_type": "markdown",
   "id": "6dcca87b",
   "metadata": {},
   "source": [
    "We have applied but not fitted the tf-idf vectorization to the test set.  This is because, when we fit the train dataset, the model object learns and gets populated with the vocabulary and the frequency.  \n",
    "This ensures that the test data is transformed based on the same vocabulary and IDF values as the training data, as we are using the same model.  "
   ]
  },
  {
   "cell_type": "markdown",
   "id": "1bc9f8cb",
   "metadata": {},
   "source": [
    "# Logistic regression"
   ]
  },
  {
   "cell_type": "code",
   "execution_count": 36,
   "id": "d134c081",
   "metadata": {},
   "outputs": [
    {
     "name": "stdout",
     "output_type": "stream",
     "text": [
      "The accuracy of the logistic regression model on test data is\n",
      " 0.89\n"
     ]
    }
   ],
   "source": [
    "# Training logistic regression using train dataset\n",
    "\n",
    "from sklearn.linear_model import LogisticRegression\n",
    "logreg = LogisticRegression()\n",
    "logreg_model=logreg.fit(stemmeddata_train_tfidf,sentiment_train)\n",
    "\n",
    "# Finding the accuracy on test set using score function\n",
    "\n",
    "print (\"The accuracy of the logistic regression model on test data is\\n\",logreg_model.score(stemmeddata_test_tfidf,sentiment_test))"
   ]
  },
  {
   "cell_type": "code",
   "execution_count": 37,
   "id": "77cdf600",
   "metadata": {},
   "outputs": [
    {
     "name": "stdout",
     "output_type": "stream",
     "text": [
      "output_comparison\n",
      "Equal    4450\n",
      "No        550\n",
      "Name: count, dtype: int64\n",
      "As per the above values the accuracy of the model on test data is 89%\n"
     ]
    }
   ],
   "source": [
    "# Testing the logistic regression model manually by predicting on the test data \n",
    "\n",
    "test=logreg_model.predict(stemmeddata_test_tfidf)\n",
    "test1=pd.Series(test)\n",
    "\n",
    "# Concatenating the original test target and the predicted target,\n",
    "\n",
    "test_df1=pd.concat([sentiment_test.reset_index(drop=True),test1.reset_index(drop=True)],axis=1)\n",
    "\n",
    "test_df1['output_comparison'] = test_df1.apply(lambda row: 'Equal' if row['sentiment'] == row[0] else 'No', axis=1)\n",
    "\n",
    "print (test_df1['output_comparison'].value_counts())\n",
    "\n",
    "print (\"As per the above values the accuracy of the model on test data is 89%\")"
   ]
  },
  {
   "cell_type": "code",
   "execution_count": 38,
   "id": "bbe48364",
   "metadata": {},
   "outputs": [
    {
     "name": "stdout",
     "output_type": "stream",
     "text": [
      "Confusion matrix for logistic regression is\n",
      " [[2170  311]\n",
      " [ 239 2280]]\n"
     ]
    },
    {
     "data": {
      "image/png": "[encoded data removed]",
      "text/plain": [
       "<Figure size 640x480 with 2 Axes>"
      ]
     },
     "metadata": {},
     "output_type": "display_data"
    }
   ],
   "source": [
    "# Importing libraries for confusion matrix and its display,\n",
    "\n",
    "from sklearn.metrics import confusion_matrix, ConfusionMatrixDisplay\n",
    "import matplotlib.pyplot as plt\n",
    "\n",
    "# Generate the confusion matrix\n",
    "cm = confusion_matrix(sentiment_test, test1)\n",
    "print (\"Confusion matrix for logistic regression is\\n\",cm)\n",
    "\n",
    "# Display the confusion matrix\n",
    "disp = ConfusionMatrixDisplay(confusion_matrix=cm)\n",
    "disp.plot(cmap=plt.cm.Blues)\n",
    "plt.show()"
   ]
  },
  {
   "cell_type": "code",
   "execution_count": 39,
   "id": "db3c197a",
   "metadata": {},
   "outputs": [
    {
     "name": "stdout",
     "output_type": "stream",
     "text": [
      "Precision for test set for each class:  [0.90078871 0.87996912]\n",
      "Recall for test set for each class:  [0.87464732 0.90512108]\n",
      "F1-score for test set for  each class:  [0.88752556 0.89236791]\n"
     ]
    }
   ],
   "source": [
    "# Calculating the Precision, recall, F1 score of test class,\n",
    "\n",
    "from sklearn.metrics import precision_score, recall_score, f1_score, classification_report\n",
    "precision = precision_score(sentiment_test, test1, average=None)\n",
    "recall = recall_score(sentiment_test, test1, average=None)\n",
    "f1 = f1_score(sentiment_test, test1, average=None)\n",
    "\n",
    "# Print the results\n",
    "print(\"Precision for test set for each class: \", precision)\n",
    "print(\"Recall for test set for each class: \", recall)\n",
    "print(\"F1-score for test set for  each class: \", f1)\n"
   ]
  },
  {
   "cell_type": "code",
   "execution_count": 40,
   "id": "9ca078cf",
   "metadata": {},
   "outputs": [
    {
     "name": "stdout",
     "output_type": "stream",
     "text": [
      "AUC Score of the model is: 0.96\n",
      "The classes of the model are\n",
      " [0 1]\n"
     ]
    }
   ],
   "source": [
    "# Calculating the RoC curve of test class,\n",
    "\n",
    "\n",
    "from sklearn.metrics import roc_curve, roc_auc_score, RocCurveDisplay\n",
    "y_pred_proba = logreg_model.predict_proba(stemmeddata_test_tfidf)\n",
    "\n",
    "# Compute the ROC curve\n",
    "fpr, tpr, thresholds = roc_curve(sentiment_test, y_pred_proba[:,1])\n",
    "\n",
    "# Compute the AUC score\n",
    "auc_score = roc_auc_score(sentiment_test,y_pred_proba[:,1])\n",
    "\n",
    "print(f\"AUC Score of the model is: {auc_score:.2f}\")\n",
    "\n",
    "print(\"The classes of the model are\\n\",logreg_model.classes_)"
   ]
  },
  {
   "cell_type": "code",
   "execution_count": 41,
   "id": "a03b78c4",
   "metadata": {},
   "outputs": [
    {
     "data": {
      "image/png": "[encoded data removed]",
      "text/plain": [
       "<Figure size 640x480 with 1 Axes>"
      ]
     },
     "metadata": {},
     "output_type": "display_data"
    }
   ],
   "source": [
    "# Plot the ROC curve\n",
    "plt.figure()\n",
    "plt.plot(fpr, tpr, color='darkorange', lw=2, label=f'ROC curve (area = {auc_score:.2f})')\n",
    "plt.plot([0, 1], [0, 1], color='navy', lw=2, linestyle='--')\n",
    "plt.xlim([0.0, 1.0])\n",
    "plt.ylim([0.0, 1.05])\n",
    "plt.xlabel('False Positive Rate')\n",
    "plt.ylabel('True Positive Rate')\n",
    "plt.title('Receiver Operating Characteristic')\n",
    "plt.legend(loc=\"lower right\")\n",
    "plt.show()"
   ]
  },
  {
   "cell_type": "markdown",
   "id": "31ce4c47",
   "metadata": {},
   "source": [
    "# Analysis of logistic regression model\n",
    "\n",
    "As the AUC Score of the model is: 0.96, we are considering logistic regression as an excellent model.  \n",
    "Precision score is 90% and recall score is 87% which is very good.\n",
    "Precision measures the proportion of true positive predictions out of all positive predictions made by the model.\n",
    "F1 score is 0.88, which is considered to be a excellent model. F1 score combines both precision and recall to give a single performance metric.\n",
    "RoC curve is also very good by not being close to the diagonal line.\n",
    "Recall measures the proportion of actual positive cases that the model correctly identified.\n"
   ]
  },
  {
   "cell_type": "markdown",
   "id": "afb725bd",
   "metadata": {},
   "source": [
    "# SVM classification model\n",
    "\n",
    "I am using SVM classification model as an alternative to logistic regression and evaluating the model metrics.  \n"
   ]
  },
  {
   "cell_type": "code",
   "execution_count": 42,
   "id": "33fdc838",
   "metadata": {},
   "outputs": [
    {
     "name": "stderr",
     "output_type": "stream",
     "text": [
      "C:\\Users\\Riaz\\anaconda3\\Lib\\site-packages\\sklearn\\svm\\_classes.py:32: FutureWarning: The default value of `dual` will change from `True` to `'auto'` in 1.5. Set the value of `dual` explicitly to suppress the warning.\n",
      "  warnings.warn(\n"
     ]
    },
    {
     "data": {
      "text/plain": [
       "0       0\n",
       "1       0\n",
       "2       0\n",
       "3       1\n",
       "4       0\n",
       "       ..\n",
       "4995    0\n",
       "4996    1\n",
       "4997    0\n",
       "4998    0\n",
       "4999    0\n",
       "Length: 5000, dtype: int64"
      ]
     },
     "execution_count": 42,
     "metadata": {},
     "output_type": "execute_result"
    }
   ],
   "source": [
    "from sklearn.svm import LinearSVC\n",
    "from sklearn.svm import SVC\n",
    "\n",
    "# Create support vector classifier\n",
    "svc = LinearSVC(C=1.0)\n",
    "#svc=SVC(kernel=\"linear\", probability=True, random_state=0)\n",
    "\n",
    "# Train model\n",
    "svc_model = svc.fit(stemmeddata_train_tfidf,sentiment_train)\n",
    "\n",
    "svc_test=svc_model.predict(stemmeddata_test_tfidf)\n",
    "svc_test1=pd.Series(svc_test)\n",
    "svc_test1"
   ]
  },
  {
   "cell_type": "code",
   "execution_count": 43,
   "id": "0e51b094",
   "metadata": {},
   "outputs": [
    {
     "name": "stdout",
     "output_type": "stream",
     "text": [
      "Precision for test set for each class for SVC model:  [0.89417555 0.88251366]\n",
      "Recall for test set for each class for SVC model:  [0.87867795 0.8975784 ]\n",
      "F1-score for test set for  each class for SVC model:  [0.88635902 0.88998229]\n"
     ]
    }
   ],
   "source": [
    "# Calculating the Precision, recall, F1 score of test class of SVC model,\n",
    "\n",
    "precision_svc = precision_score(sentiment_test, svc_test1, average=None)\n",
    "recall_svc = recall_score(sentiment_test, svc_test1, average=None)\n",
    "f1_svc = f1_score(sentiment_test, svc_test1, average=None)\n",
    "\n",
    "# Print the results\n",
    "print(\"Precision for test set for each class for SVC model: \", precision_svc)\n",
    "print(\"Recall for test set for each class for SVC model: \", recall_svc)\n",
    "print(\"F1-score for test set for  each class for SVC model: \", f1_svc)\n"
   ]
  },
  {
   "cell_type": "code",
   "execution_count": 44,
   "id": "c4194cb5",
   "metadata": {},
   "outputs": [
    {
     "name": "stdout",
     "output_type": "stream",
     "text": [
      "Confusion matrix for SVC regression model is\n",
      " [[2180  301]\n",
      " [ 258 2261]]\n"
     ]
    },
    {
     "data": {
      "image/png": "[encoded data removed]",
      "text/plain": [
       "<Figure size 640x480 with 2 Axes>"
      ]
     },
     "metadata": {},
     "output_type": "display_data"
    }
   ],
   "source": [
    "# Importing libraries for confusion matrix and its display,\n",
    "\n",
    "from sklearn.metrics import confusion_matrix, ConfusionMatrixDisplay\n",
    "import matplotlib.pyplot as plt\n",
    "\n",
    "# Generate the confusion matrix\n",
    "cm_svc = confusion_matrix(sentiment_test, svc_test1)\n",
    "print (\"Confusion matrix for SVC regression model is\\n\",cm_svc)\n",
    "\n",
    "# Display the confusion matrix\n",
    "disp = ConfusionMatrixDisplay(confusion_matrix=cm_svc)\n",
    "disp.plot(cmap=plt.cm.Blues)\n",
    "plt.show()"
   ]
  },
  {
   "cell_type": "code",
   "execution_count": 45,
   "id": "b7da8048",
   "metadata": {},
   "outputs": [
    {
     "name": "stdout",
     "output_type": "stream",
     "text": [
      "ROC AUC Score: 0.9559376149566399\n"
     ]
    }
   ],
   "source": [
    "# Calculating the RoC curve of test class for SVC model,\n",
    "\n",
    "\n",
    "from sklearn.metrics import roc_curve, roc_auc_score, RocCurveDisplay,auc\n",
    "\n",
    "#y_pred_proba_svc = svc_model.predict_proba(stemmeddata_test_tfidf)\n",
    "\n",
    "# Get decision function scores\n",
    "decision_scores = svc_model.decision_function(stemmeddata_test_tfidf)\n",
    "\n",
    "# Compute ROC curve\n",
    "fpr_svc, tpr_svc, thresholds_svc = roc_curve(sentiment_test, decision_scores)\n",
    "roc_auc_svc = auc(fpr_svc, tpr_svc)\n",
    "\n",
    "print(\"ROC AUC Score:\", roc_auc_svc)"
   ]
  },
  {
   "cell_type": "code",
   "execution_count": 46,
   "id": "15cf5434",
   "metadata": {},
   "outputs": [
    {
     "data": {
      "image/png": "[encoded data removed]",
      "text/plain": [
       "<Figure size 640x480 with 1 Axes>"
      ]
     },
     "metadata": {},
     "output_type": "display_data"
    }
   ],
   "source": [
    "# Plot the ROC curve for SVC model\n",
    "plt.figure()\n",
    "plt.plot(fpr_svc, tpr_svc, color='darkorange', lw=2, label=f'ROC curve (area = {roc_auc_svc:.2f})')\n",
    "plt.plot([0, 1], [0, 1], color='navy', lw=2, linestyle='--')\n",
    "plt.xlim([0.0, 1.0])\n",
    "plt.ylim([0.0, 1.05])\n",
    "plt.xlabel('False Positive Rate')\n",
    "plt.ylabel('True Positive Rate')\n",
    "plt.title('Receiver Operating Characteristic for SVC model')\n",
    "plt.legend(loc=\"lower right\")\n",
    "plt.show()"
   ]
  },
  {
   "cell_type": "markdown",
   "id": "12a088ca",
   "metadata": {},
   "source": [
    "# Conclusion\n",
    "\n",
    "From the above analysis of metrics of both the logistic regression and SVC models, all the values like RoC Curve, Precision, Recall and F1 scores are almost similar.  \n",
    "Both are considered to be very good models based on their model metrics.  "
   ]
  }
 ],
 "metadata": {
  "kernelspec": {
   "display_name": "Python 3 (ipykernel)",
   "language": "python",
   "name": "python3"
  },
  "language_info": {
   "codemirror_mode": {
    "name": "ipython",
    "version": 3
   },
   "file_extension": ".py",
   "mimetype": "text/x-python",
   "name": "python",
   "nbconvert_exporter": "python",
   "pygments_lexer": "ipython3",
   "version": "3.11.5"
  }
 },
 "nbformat": 4,
 "nbformat_minor": 5
}
